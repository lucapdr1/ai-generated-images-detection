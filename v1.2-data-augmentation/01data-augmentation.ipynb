{
 "cells": [
  {
   "cell_type": "markdown",
   "id": "65eafe2e",
   "metadata": {},
   "source": [
    "## Basic Libraries"
   ]
  },
  {
   "cell_type": "code",
   "execution_count": 5,
   "id": "d10a3960",
   "metadata": {},
   "outputs": [],
   "source": [
    "import numpy as np"
   ]
  },
  {
   "cell_type": "markdown",
   "id": "3ef4bde4",
   "metadata": {},
   "source": [
    "Import preprocessed Data"
   ]
  },
  {
   "cell_type": "code",
   "execution_count": null,
   "id": "bd07b097",
   "metadata": {},
   "outputs": [],
   "source": [
    "# Load training data\n",
    "X_train = np.load('../processed-data/X_train.npy')\n",
    "y_train = np.load('../processed-data/y_train.npy')\n"
   ]
  },
  {
   "cell_type": "markdown",
   "id": "a8fd5086",
   "metadata": {},
   "source": [
    "# Data Augmentation"
   ]
  },
  {
   "cell_type": "code",
   "execution_count": 29,
   "id": "935a5be0",
   "metadata": {},
   "outputs": [],
   "source": [
    "from tensorflow.keras.preprocessing.image import ImageDataGenerator\n",
    "\n",
    "datagen = ImageDataGenerator(\n",
    "    rotation_range=10,       # Reduced rotation range\n",
    "    width_shift_range=0.1,   # Reduced horizontal shift\n",
    "    height_shift_range=0.1,  # Reduced vertical shift\n",
    "    horizontal_flip=True,    # Keep horizontal flip\n",
    ")\n",
    "\n",
    "\n",
    "# Use ImageDataGenerator to create an augmented image generator\n",
    "train_generator = datagen.flow(X_train, y_train, batch_size=32)"
   ]
  },
  {
   "cell_type": "markdown",
   "id": "6218fcaf",
   "metadata": {},
   "source": [
    "## Introduce a validation set"
   ]
  },
  {
   "cell_type": "code",
   "execution_count": 30,
   "id": "9032e5be",
   "metadata": {},
   "outputs": [],
   "source": [
    "from sklearn.model_selection import train_test_split\n",
    "# Split the data into training and validation sets\n",
    "X_train, X_val, y_train, y_val = train_test_split(X_train, y_train, test_size=0.2, random_state=42)\n",
    "\n",
    "train_generator = datagen.flow(X_train, y_train, batch_size=32)\n",
    "validation_generator = ImageDataGenerator().flow(X_val, y_val)"
   ]
  },
  {
   "cell_type": "markdown",
   "id": "31d14a46",
   "metadata": {
    "papermill": {
     "duration": 0.017088,
     "end_time": "2023-05-16T02:08:01.283075",
     "exception": false,
     "start_time": "2023-05-16T02:08:01.265987",
     "status": "completed"
    },
    "tags": []
   },
   "source": [
    "## Importing **\"keras\"** for CNN"
   ]
  },
  {
   "cell_type": "code",
   "execution_count": 31,
   "id": "5306ca43",
   "metadata": {
    "execution": {
     "iopub.execute_input": "2023-05-16T02:08:01.319286Z",
     "iopub.status.busy": "2023-05-16T02:08:01.318899Z",
     "iopub.status.idle": "2023-05-16T02:18:20.192423Z",
     "shell.execute_reply": "2023-05-16T02:18:20.191546Z"
    },
    "papermill": {
     "duration": 618.894231,
     "end_time": "2023-05-16T02:18:20.194943",
     "exception": false,
     "start_time": "2023-05-16T02:08:01.300712",
     "status": "completed"
    },
    "tags": []
   },
   "outputs": [
    {
     "name": "stderr",
     "output_type": "stream",
     "text": [
      "c:\\Users\\P2001\\anaconda3\\envs\\dlp\\Lib\\site-packages\\keras\\src\\layers\\convolutional\\base_conv.py:107: UserWarning: Do not pass an `input_shape`/`input_dim` argument to a layer. When using Sequential models, prefer using an `Input(shape)` object as the first layer in the model instead.\n",
      "  super().__init__(activity_regularizer=activity_regularizer, **kwargs)\n"
     ]
    },
    {
     "name": "stdout",
     "output_type": "stream",
     "text": [
      "Epoch 1/10\n"
     ]
    },
    {
     "name": "stderr",
     "output_type": "stream",
     "text": [
      "c:\\Users\\P2001\\anaconda3\\envs\\dlp\\Lib\\site-packages\\keras\\src\\trainers\\data_adapters\\py_dataset_adapter.py:121: UserWarning: Your `PyDataset` class should call `super().__init__(**kwargs)` in its constructor. `**kwargs` can include `workers`, `use_multiprocessing`, `max_queue_size`. Do not pass these arguments to `fit()`, as they will be ignored.\n",
      "  self._warn_if_super_not_called()\n"
     ]
    },
    {
     "name": "stdout",
     "output_type": "stream",
     "text": [
      "\u001b[1m2000/2000\u001b[0m \u001b[32m━━━━━━━━━━━━━━━━━━━━\u001b[0m\u001b[37m\u001b[0m \u001b[1m75s\u001b[0m 35ms/step - accuracy: 0.7231 - loss: 0.5279 - val_accuracy: 0.7849 - val_loss: 0.4952\n",
      "Epoch 2/10\n"
     ]
    },
    {
     "name": "stderr",
     "output_type": "stream",
     "text": [
      "c:\\Users\\P2001\\anaconda3\\envs\\dlp\\Lib\\contextlib.py:158: UserWarning: Your input ran out of data; interrupting training. Make sure that your dataset or generator can generate at least `steps_per_epoch * epochs` batches. You may need to use the `.repeat()` function when building your dataset.\n",
      "  self.gen.throw(value)\n"
     ]
    },
    {
     "name": "stdout",
     "output_type": "stream",
     "text": [
      "\u001b[1m2000/2000\u001b[0m \u001b[32m━━━━━━━━━━━━━━━━━━━━\u001b[0m\u001b[37m\u001b[0m \u001b[1m4s\u001b[0m 2ms/step - accuracy: 0.0000e+00 - loss: 0.0000e+00 - val_accuracy: 0.7849 - val_loss: 0.4952\n",
      "Epoch 3/10\n",
      "\u001b[1m2000/2000\u001b[0m \u001b[32m━━━━━━━━━━━━━━━━━━━━\u001b[0m\u001b[37m\u001b[0m \u001b[1m72s\u001b[0m 36ms/step - accuracy: 0.8405 - loss: 0.3629 - val_accuracy: 0.7989 - val_loss: 0.5278\n",
      "Epoch 4/10\n",
      "\u001b[1m2000/2000\u001b[0m \u001b[32m━━━━━━━━━━━━━━━━━━━━\u001b[0m\u001b[37m\u001b[0m \u001b[1m4s\u001b[0m 2ms/step - accuracy: 0.0000e+00 - loss: 0.0000e+00 - val_accuracy: 0.7989 - val_loss: 0.5278\n",
      "Epoch 5/10\n",
      "\u001b[1m2000/2000\u001b[0m \u001b[32m━━━━━━━━━━━━━━━━━━━━\u001b[0m\u001b[37m\u001b[0m \u001b[1m73s\u001b[0m 37ms/step - accuracy: 0.8665 - loss: 0.3167 - val_accuracy: 0.7650 - val_loss: 0.6148\n"
     ]
    },
    {
     "data": {
      "text/plain": [
       "<keras.src.callbacks.history.History at 0x19503978980>"
      ]
     },
     "execution_count": 31,
     "metadata": {},
     "output_type": "execute_result"
    }
   ],
   "source": [
    "from tensorflow.keras import models , layers\n",
    "from tensorflow.keras.callbacks import EarlyStopping\n",
    "\n",
    "model = models.Sequential([\n",
    "    layers.Conv2D(filters = 80 , kernel_size = (3,3),activation = 'relu',input_shape= (32,32,3)),\n",
    "    layers.MaxPool2D((2,2)),\n",
    "    layers.Conv2D(filters = 40 , kernel_size = (3,3),activation = 'relu'),\n",
    "    layers.MaxPool2D((2,2)),\n",
    "    layers.Conv2D(filters = 20 , kernel_size = (3,3),activation = 'relu'),\n",
    "    layers.MaxPool2D((2,2)),\n",
    "    \n",
    "    layers.Flatten(),\n",
    "    layers.Dense(10,activation = 'relu'),\n",
    "    layers.Dense(2,activation = 'sigmoid'),\n",
    "                         ])\n",
    "\n",
    "model.compile(\n",
    "    optimizer = 'adam',\n",
    "    loss= 'sparse_categorical_crossentropy',\n",
    "    metrics = ['accuracy']\n",
    "             )\n",
    "\n",
    "early_stopping = EarlyStopping(monitor='val_loss', patience=3, restore_best_weights=True)\n",
    "\n",
    "model.fit(train_generator, epochs=10, steps_per_epoch=len(X_train) // 32, validation_data=validation_generator, callbacks=[early_stopping])\n",
    "\n"
   ]
  },
  {
   "cell_type": "code",
   "execution_count": 32,
   "id": "51bab899",
   "metadata": {},
   "outputs": [],
   "source": [
    "# Load test data\n",
    "X_test = np.load('../processed-data/X_test.npy')\n",
    "y_test = np.load('../processed-data/y_test.npy')"
   ]
  },
  {
   "cell_type": "code",
   "execution_count": 33,
   "id": "878d8056",
   "metadata": {
    "execution": {
     "iopub.execute_input": "2023-05-16T02:18:21.738827Z",
     "iopub.status.busy": "2023-05-16T02:18:21.738132Z",
     "iopub.status.idle": "2023-05-16T02:18:28.870939Z",
     "shell.execute_reply": "2023-05-16T02:18:28.869951Z"
    },
    "papermill": {
     "duration": 7.944021,
     "end_time": "2023-05-16T02:18:28.873566",
     "exception": false,
     "start_time": "2023-05-16T02:18:20.929545",
     "status": "completed"
    },
    "tags": []
   },
   "outputs": [
    {
     "name": "stdout",
     "output_type": "stream",
     "text": [
      "\u001b[1m625/625\u001b[0m \u001b[32m━━━━━━━━━━━━━━━━━━━━\u001b[0m\u001b[37m\u001b[0m \u001b[1m6s\u001b[0m 9ms/step - accuracy: 0.9085 - loss: 0.2296\n"
     ]
    },
    {
     "data": {
      "text/plain": [
       "[0.48333531618118286, 0.7858999967575073]"
      ]
     },
     "execution_count": 33,
     "metadata": {},
     "output_type": "execute_result"
    }
   ],
   "source": [
    "model.evaluate(X_test,y_test)"
   ]
  },
  {
   "cell_type": "code",
   "execution_count": 34,
   "id": "11cc7ccc",
   "metadata": {
    "execution": {
     "iopub.execute_input": "2023-05-16T02:18:30.357528Z",
     "iopub.status.busy": "2023-05-16T02:18:30.356831Z",
     "iopub.status.idle": "2023-05-16T02:18:37.597581Z",
     "shell.execute_reply": "2023-05-16T02:18:37.596237Z"
    },
    "papermill": {
     "duration": 7.988,
     "end_time": "2023-05-16T02:18:37.600498",
     "exception": false,
     "start_time": "2023-05-16T02:18:29.612498",
     "status": "completed"
    },
    "tags": []
   },
   "outputs": [
    {
     "name": "stdout",
     "output_type": "stream",
     "text": [
      "\u001b[1m625/625\u001b[0m \u001b[32m━━━━━━━━━━━━━━━━━━━━\u001b[0m\u001b[37m\u001b[0m \u001b[1m6s\u001b[0m 9ms/step\n"
     ]
    }
   ],
   "source": [
    "y_pred  = model.predict(X_test)"
   ]
  },
  {
   "cell_type": "code",
   "execution_count": 35,
   "id": "e3f5ba82",
   "metadata": {
    "execution": {
     "iopub.execute_input": "2023-05-16T02:18:39.186015Z",
     "iopub.status.busy": "2023-05-16T02:18:39.185324Z",
     "iopub.status.idle": "2023-05-16T02:18:39.276918Z",
     "shell.execute_reply": "2023-05-16T02:18:39.275636Z"
    },
    "papermill": {
     "duration": 0.848316,
     "end_time": "2023-05-16T02:18:39.279666",
     "exception": false,
     "start_time": "2023-05-16T02:18:38.431350",
     "status": "completed"
    },
    "tags": []
   },
   "outputs": [
    {
     "data": {
      "text/plain": [
       "[0, 0, 0, 0, 0]"
      ]
     },
     "execution_count": 35,
     "metadata": {},
     "output_type": "execute_result"
    }
   ],
   "source": [
    "y_pred_label = [np.argmax(i) for i in y_pred]\n",
    "y_pred_label[:5]"
   ]
  },
  {
   "cell_type": "markdown",
   "id": "6b6c3b96",
   "metadata": {
    "papermill": {
     "duration": 0.754485,
     "end_time": "2023-05-16T02:18:40.798518",
     "exception": false,
     "start_time": "2023-05-16T02:18:40.044033",
     "status": "completed"
    },
    "tags": []
   },
   "source": [
    "## Classification Report"
   ]
  },
  {
   "cell_type": "code",
   "execution_count": 36,
   "id": "19e35551",
   "metadata": {
    "execution": {
     "iopub.execute_input": "2023-05-16T02:18:42.388632Z",
     "iopub.status.busy": "2023-05-16T02:18:42.387900Z",
     "iopub.status.idle": "2023-05-16T02:18:43.346602Z",
     "shell.execute_reply": "2023-05-16T02:18:43.345426Z"
    },
    "papermill": {
     "duration": 1.719765,
     "end_time": "2023-05-16T02:18:43.348933",
     "exception": false,
     "start_time": "2023-05-16T02:18:41.629168",
     "status": "completed"
    },
    "tags": []
   },
   "outputs": [
    {
     "name": "stdout",
     "output_type": "stream",
     "text": [
      "Classification Report     : \n",
      "\n",
      "\n",
      "               precision    recall  f1-score   support\n",
      "\n",
      "           0       0.71      0.96      0.82     10000\n",
      "           1       0.94      0.61      0.74     10000\n",
      "\n",
      "    accuracy                           0.79     20000\n",
      "   macro avg       0.83      0.79      0.78     20000\n",
      "weighted avg       0.83      0.79      0.78     20000\n",
      "\n"
     ]
    }
   ],
   "source": [
    "from sklearn.metrics import classification_report\n",
    "\n",
    "print('Classification Report     : \\n\\n\\n' , classification_report(y_test,y_pred_label))"
   ]
  },
  {
   "cell_type": "markdown",
   "id": "b5723beb",
   "metadata": {
    "papermill": {
     "duration": 0.831854,
     "end_time": "2023-05-16T02:18:44.943762",
     "exception": false,
     "start_time": "2023-05-16T02:18:44.111908",
     "status": "completed"
    },
    "tags": []
   },
   "source": [
    "## Confusion Matrix "
   ]
  },
  {
   "cell_type": "code",
   "execution_count": 37,
   "id": "d1843e70",
   "metadata": {
    "execution": {
     "iopub.execute_input": "2023-05-16T02:18:46.460856Z",
     "iopub.status.busy": "2023-05-16T02:18:46.460442Z",
     "iopub.status.idle": "2023-05-16T02:18:46.476007Z",
     "shell.execute_reply": "2023-05-16T02:18:46.474843Z"
    },
    "papermill": {
     "duration": 0.779442,
     "end_time": "2023-05-16T02:18:46.478970",
     "exception": false,
     "start_time": "2023-05-16T02:18:45.699528",
     "status": "completed"
    },
    "tags": []
   },
   "outputs": [],
   "source": [
    "from sklearn.metrics import confusion_matrix\n",
    "\n",
    "cm = confusion_matrix(y_test , y_pred_label)"
   ]
  },
  {
   "cell_type": "code",
   "execution_count": 38,
   "id": "da6ea6e6",
   "metadata": {
    "execution": {
     "iopub.execute_input": "2023-05-16T02:18:48.087867Z",
     "iopub.status.busy": "2023-05-16T02:18:48.087454Z",
     "iopub.status.idle": "2023-05-16T02:18:49.048657Z",
     "shell.execute_reply": "2023-05-16T02:18:49.047561Z"
    },
    "papermill": {
     "duration": 1.720016,
     "end_time": "2023-05-16T02:18:49.051196",
     "exception": false,
     "start_time": "2023-05-16T02:18:47.331180",
     "status": "completed"
    },
    "tags": []
   },
   "outputs": [
    {
     "data": {
      "image/png": "[encoded data removed]",
      "text/plain": [
       "<Figure size 400x400 with 2 Axes>"
      ]
     },
     "metadata": {},
     "output_type": "display_data"
    }
   ],
   "source": [
    "import matplotlib.pyplot as plt\n",
    "import seaborn as sn\n",
    "\n",
    "\n",
    "plt.figure(figsize=(4,4), facecolor= 'pink', edgecolor='brown')\n",
    "sn.heatmap(cm , annot= True, fmt=\"d\")\n",
    "plt.xlabel('Prediction', fontdict= {'family':'fantasy','color':'black','size':15})\n",
    "plt.ylabel('Truth', fontdict= {'family':'fantasy','color':'black','size':15})\n",
    "plt.title('Confusion Matrix',fontdict= {'family':'fantasy','color':'red','size':20})\n",
    "plt.show()"
   ]
  },
  {
   "cell_type": "markdown",
   "id": "8ccbb5cd",
   "metadata": {
    "papermill": {
     "duration": 0.758907,
     "end_time": "2023-05-16T02:18:50.609777",
     "exception": false,
     "start_time": "2023-05-16T02:18:49.850870",
     "status": "completed"
    },
    "tags": []
   },
   "source": [
    "## **THANK YOU !**"
   ]
  }
 ],
 "metadata": {
  "kernelspec": {
   "display_name": "Python 3",
   "language": "python",
   "name": "python3"
  },
  "language_info": {
   "codemirror_mode": {
    "name": "ipython",
    "version": 3
   },
   "file_extension": ".py",
   "mimetype": "text/x-python",
   "name": "python",
   "nbconvert_exporter": "python",
   "pygments_lexer": "ipython3",
   "version": "3.12.3"
  },
  "papermill": {
   "default_parameters": {},
   "duration": 1602.885985,
   "end_time": "2023-05-16T02:18:54.287650",
   "environment_variables": {},
   "exception": null,
   "input_path": "__notebook__.ipynb",
   "output_path": "__notebook__.ipynb",
   "parameters": {},
   "start_time": "2023-05-16T01:52:11.401665",
   "version": "2.4.0"
  }
 },
 "nbformat": 4,
 "nbformat_minor": 5
}
