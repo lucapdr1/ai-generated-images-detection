{
 "cells": [
  {
   "cell_type": "markdown",
   "id": "2008bb80",
   "metadata": {
    "papermill": {
     "duration": 0.013108,
     "end_time": "2023-05-16T01:52:24.136458",
     "exception": false,
     "start_time": "2023-05-16T01:52:24.123350",
     "status": "completed"
    },
    "tags": []
   },
   "source": [
    "## Basic Libraries"
   ]
  },
  {
   "cell_type": "code",
   "execution_count": 1,
   "id": "bd3acf67",
   "metadata": {
    "execution": {
     "iopub.execute_input": "2023-05-16T01:52:24.165562Z",
     "iopub.status.busy": "2023-05-16T01:52:24.164304Z",
     "iopub.status.idle": "2023-05-16T01:52:24.179240Z",
     "shell.execute_reply": "2023-05-16T01:52:24.177990Z"
    },
    "papermill": {
     "duration": 0.032141,
     "end_time": "2023-05-16T01:52:24.182055",
     "exception": false,
     "start_time": "2023-05-16T01:52:24.149914",
     "status": "completed"
    },
    "tags": []
   },
   "outputs": [],
   "source": [
    "import pandas as pd\n",
    "import numpy as np"
   ]
  },
  {
   "cell_type": "markdown",
   "id": "752e8799",
   "metadata": {
    "papermill": {
     "duration": 0.012655,
     "end_time": "2023-05-16T01:52:24.208022",
     "exception": false,
     "start_time": "2023-05-16T01:52:24.195367",
     "status": "completed"
    },
    "tags": []
   },
   "source": [
    "## Libraries for Image "
   ]
  },
  {
   "cell_type": "code",
   "execution_count": 2,
   "id": "407f6e41",
   "metadata": {
    "execution": {
     "iopub.execute_input": "2023-05-16T01:52:24.236227Z",
     "iopub.status.busy": "2023-05-16T01:52:24.235840Z",
     "iopub.status.idle": "2023-05-16T01:52:24.448991Z",
     "shell.execute_reply": "2023-05-16T01:52:24.447696Z"
    },
    "papermill": {
     "duration": 0.230516,
     "end_time": "2023-05-16T01:52:24.451889",
     "exception": false,
     "start_time": "2023-05-16T01:52:24.221373",
     "status": "completed"
    },
    "tags": []
   },
   "outputs": [],
   "source": [
    "import cv2\n",
    "from PIL import Image\n",
    "\n",
    "base_url = './data/cifake'"
   ]
  },
  {
   "cell_type": "code",
   "execution_count": 3,
   "id": "86d5b895",
   "metadata": {
    "execution": {
     "iopub.execute_input": "2023-05-16T01:52:24.479985Z",
     "iopub.status.busy": "2023-05-16T01:52:24.479575Z",
     "iopub.status.idle": "2023-05-16T01:52:24.517122Z",
     "shell.execute_reply": "2023-05-16T01:52:24.516016Z"
    },
    "papermill": {
     "duration": 0.055184,
     "end_time": "2023-05-16T01:52:24.520043",
     "exception": false,
     "start_time": "2023-05-16T01:52:24.464859",
     "status": "completed"
    },
    "tags": []
   },
   "outputs": [
    {
     "data": {
      "image/jpeg": "[encoded data removed]",
      "image/png": "[encoded data removed]",
      "text/plain": [
       "<PIL.JpegImagePlugin.JpegImageFile image mode=RGB size=32x32>"
      ]
     },
     "execution_count": 3,
     "metadata": {},
     "output_type": "execute_result"
    }
   ],
   "source": [
    "Image.open(base_url+'/train/FAKE/5999.jpg')\n"
   ]
  },
  {
   "cell_type": "code",
   "execution_count": 4,
   "id": "b1d3f067",
   "metadata": {
    "execution": {
     "iopub.execute_input": "2023-05-16T01:52:24.548886Z",
     "iopub.status.busy": "2023-05-16T01:52:24.547762Z",
     "iopub.status.idle": "2023-05-16T01:52:24.573754Z",
     "shell.execute_reply": "2023-05-16T01:52:24.572549Z"
    },
    "papermill": {
     "duration": 0.043009,
     "end_time": "2023-05-16T01:52:24.576221",
     "exception": false,
     "start_time": "2023-05-16T01:52:24.533212",
     "status": "completed"
    },
    "tags": []
   },
   "outputs": [
    {
     "data": {
      "text/plain": [
       "(32, 32, 3)"
      ]
     },
     "execution_count": 4,
     "metadata": {},
     "output_type": "execute_result"
    }
   ],
   "source": [
    "image = cv2.imread(base_url + '/train/FAKE/5999.jpg')\n",
    "image.shape"
   ]
  },
  {
   "cell_type": "markdown",
   "id": "6a87a9c2",
   "metadata": {
    "papermill": {
     "duration": 0.012959,
     "end_time": "2023-05-16T01:52:24.602245",
     "exception": false,
     "start_time": "2023-05-16T01:52:24.589286",
     "status": "completed"
    },
    "tags": []
   },
   "source": [
    "## **TRAIN DATAFRAME**"
   ]
  },
  {
   "cell_type": "markdown",
   "id": "b978e994",
   "metadata": {
    "papermill": {
     "duration": 0.012777,
     "end_time": "2023-05-16T01:52:24.628027",
     "exception": false,
     "start_time": "2023-05-16T01:52:24.615250",
     "status": "completed"
    },
    "tags": []
   },
   "source": [
    "## Creating Training Dataframe for **\"Fake Image\"**"
   ]
  },
  {
   "cell_type": "code",
   "execution_count": 5,
   "id": "8f13fac3",
   "metadata": {
    "execution": {
     "iopub.execute_input": "2023-05-16T01:52:24.657259Z",
     "iopub.status.busy": "2023-05-16T01:52:24.656852Z",
     "iopub.status.idle": "2023-05-16T01:52:24.715970Z",
     "shell.execute_reply": "2023-05-16T01:52:24.715066Z"
    },
    "papermill": {
     "duration": 0.077316,
     "end_time": "2023-05-16T01:52:24.718371",
     "exception": false,
     "start_time": "2023-05-16T01:52:24.641055",
     "status": "completed"
    },
    "tags": []
   },
   "outputs": [
    {
     "data": {
      "text/plain": [
       "50000"
      ]
     },
     "execution_count": 5,
     "metadata": {},
     "output_type": "execute_result"
    }
   ],
   "source": [
    "train_path_fake =[]\n",
    "\n",
    "base_train_fake = base_url+'/train/FAKE/'\n",
    "\n",
    "for i in range(1000,6000):\n",
    "    a = '{}{}.jpg'.format(base_train_fake, i)\n",
    "    train_path_fake.append(a)\n",
    "\n",
    "for i in range(1000,6000):\n",
    "    for j in range(2,11):\n",
    "        b = '{}{} ({}).jpg'.format(base_train_fake, i, j)\n",
    "        train_path_fake.append(b)\n",
    "len(train_path_fake)\n"
   ]
  },
  {
   "cell_type": "code",
   "execution_count": 6,
   "id": "cb02cec6",
   "metadata": {
    "execution": {
     "iopub.execute_input": "2023-05-16T01:52:24.747170Z",
     "iopub.status.busy": "2023-05-16T01:52:24.746737Z",
     "iopub.status.idle": "2023-05-16T01:52:24.795930Z",
     "shell.execute_reply": "2023-05-16T01:52:24.794778Z"
    },
    "papermill": {
     "duration": 0.066603,
     "end_time": "2023-05-16T01:52:24.798514",
     "exception": false,
     "start_time": "2023-05-16T01:52:24.731911",
     "status": "completed"
    },
    "tags": []
   },
   "outputs": [
    {
     "data": {
      "text/html": [
       "<div>\n",
       "<style scoped>\n",
       "    .dataframe tbody tr th:only-of-type {\n",
       "        vertical-align: middle;\n",
       "    }\n",
       "\n",
       "    .dataframe tbody tr th {\n",
       "        vertical-align: top;\n",
       "    }\n",
       "\n",
       "    .dataframe thead th {\n",
       "        text-align: right;\n",
       "    }\n",
       "</style>\n",
       "<table border=\"1\" class=\"dataframe\">\n",
       "  <thead>\n",
       "    <tr style=\"text-align: right;\">\n",
       "      <th></th>\n",
       "      <th>path</th>\n",
       "      <th>label</th>\n",
       "    </tr>\n",
       "  </thead>\n",
       "  <tbody>\n",
       "    <tr>\n",
       "      <th>0</th>\n",
       "      <td>./data/cifake/train/FAKE/1000.jpg</td>\n",
       "      <td>0</td>\n",
       "    </tr>\n",
       "    <tr>\n",
       "      <th>1</th>\n",
       "      <td>./data/cifake/train/FAKE/1001.jpg</td>\n",
       "      <td>0</td>\n",
       "    </tr>\n",
       "    <tr>\n",
       "      <th>2</th>\n",
       "      <td>./data/cifake/train/FAKE/1002.jpg</td>\n",
       "      <td>0</td>\n",
       "    </tr>\n",
       "    <tr>\n",
       "      <th>3</th>\n",
       "      <td>./data/cifake/train/FAKE/1003.jpg</td>\n",
       "      <td>0</td>\n",
       "    </tr>\n",
       "    <tr>\n",
       "      <th>4</th>\n",
       "      <td>./data/cifake/train/FAKE/1004.jpg</td>\n",
       "      <td>0</td>\n",
       "    </tr>\n",
       "  </tbody>\n",
       "</table>\n",
       "</div>"
      ],
      "text/plain": [
       "                                path  label\n",
       "0  ./data/cifake/train/FAKE/1000.jpg      0\n",
       "1  ./data/cifake/train/FAKE/1001.jpg      0\n",
       "2  ./data/cifake/train/FAKE/1002.jpg      0\n",
       "3  ./data/cifake/train/FAKE/1003.jpg      0\n",
       "4  ./data/cifake/train/FAKE/1004.jpg      0"
      ]
     },
     "execution_count": 6,
     "metadata": {},
     "output_type": "execute_result"
    }
   ],
   "source": [
    "df_train_fake = pd.DataFrame(train_path_fake)\n",
    "df_train_fake.columns = ['path']\n",
    "df_train_fake['label'] = 0\n",
    "df_train_fake.head()"
   ]
  },
  {
   "cell_type": "markdown",
   "id": "6a8d89b6",
   "metadata": {
    "papermill": {
     "duration": 0.013266,
     "end_time": "2023-05-16T01:52:24.825676",
     "exception": false,
     "start_time": "2023-05-16T01:52:24.812410",
     "status": "completed"
    },
    "tags": []
   },
   "source": [
    "## Creating Training Dataframe for **\"Real Image\"**"
   ]
  },
  {
   "cell_type": "code",
   "execution_count": 7,
   "id": "2e7ecdf8",
   "metadata": {
    "execution": {
     "iopub.execute_input": "2023-05-16T01:52:24.855415Z",
     "iopub.status.busy": "2023-05-16T01:52:24.855000Z",
     "iopub.status.idle": "2023-05-16T01:52:24.863947Z",
     "shell.execute_reply": "2023-05-16T01:52:24.863018Z"
    },
    "papermill": {
     "duration": 0.026904,
     "end_time": "2023-05-16T01:52:24.866413",
     "exception": false,
     "start_time": "2023-05-16T01:52:24.839509",
     "status": "completed"
    },
    "tags": []
   },
   "outputs": [
    {
     "data": {
      "text/plain": [
       "100"
      ]
     },
     "execution_count": 7,
     "metadata": {},
     "output_type": "execute_result"
    }
   ],
   "source": [
    "train_path_real=[]\n",
    "\n",
    "base__train_real = base_url+'/train/REAL/'\n",
    "\n",
    "for i in range(0,10):\n",
    "    c = '{}000{}.jpg'.format(base__train_real, i)\n",
    "    train_path_real.append(c)\n",
    "\n",
    "for i in range(0,10):\n",
    "    for j in range(2,11):\n",
    "        d = '{}000{} ({}).jpg'.format(base__train_real, i,j)\n",
    "        train_path_real.append(d)\n",
    "len(train_path_real)"
   ]
  },
  {
   "cell_type": "code",
   "execution_count": 8,
   "id": "85638cea",
   "metadata": {
    "execution": {
     "iopub.execute_input": "2023-05-16T01:52:24.895569Z",
     "iopub.status.busy": "2023-05-16T01:52:24.895197Z",
     "iopub.status.idle": "2023-05-16T01:52:24.905064Z",
     "shell.execute_reply": "2023-05-16T01:52:24.903920Z"
    },
    "papermill": {
     "duration": 0.027255,
     "end_time": "2023-05-16T01:52:24.907278",
     "exception": false,
     "start_time": "2023-05-16T01:52:24.880023",
     "status": "completed"
    },
    "tags": []
   },
   "outputs": [
    {
     "data": {
      "text/plain": [
       "1000"
      ]
     },
     "execution_count": 8,
     "metadata": {},
     "output_type": "execute_result"
    }
   ],
   "source": [
    "for i in range(10,100):\n",
    "    e = '{}00{}.jpg'.format(base__train_real, i)\n",
    "    train_path_real.append(e)\n",
    "\n",
    "\n",
    "for i in range(10,100):\n",
    "    for j in range(2,11):\n",
    "        f = '{}00{} ({}).jpg'.format(base__train_real, i,j)\n",
    "        train_path_real.append(f)\n",
    "len(train_path_real)"
   ]
  },
  {
   "cell_type": "code",
   "execution_count": 9,
   "id": "fb56bf8b",
   "metadata": {
    "execution": {
     "iopub.execute_input": "2023-05-16T01:52:24.936887Z",
     "iopub.status.busy": "2023-05-16T01:52:24.936429Z",
     "iopub.status.idle": "2023-05-16T01:52:24.954845Z",
     "shell.execute_reply": "2023-05-16T01:52:24.953738Z"
    },
    "papermill": {
     "duration": 0.036205,
     "end_time": "2023-05-16T01:52:24.957281",
     "exception": false,
     "start_time": "2023-05-16T01:52:24.921076",
     "status": "completed"
    },
    "tags": []
   },
   "outputs": [
    {
     "data": {
      "text/plain": [
       "10000"
      ]
     },
     "execution_count": 9,
     "metadata": {},
     "output_type": "execute_result"
    }
   ],
   "source": [
    "for i in range(100,1000):\n",
    "    g = '{}0{}.jpg'.format(base__train_real, i)\n",
    "    train_path_real.append(g)\n",
    "\n",
    "for i in range(100,1000):\n",
    "    for j in range(2,11):\n",
    "        h = '{}0{} ({}).jpg'.format(base__train_real, i,j)\n",
    "        train_path_real.append(h)\n",
    "len(train_path_real)"
   ]
  },
  {
   "cell_type": "code",
   "execution_count": 10,
   "id": "08bca58c",
   "metadata": {
    "execution": {
     "iopub.execute_input": "2023-05-16T01:52:24.987301Z",
     "iopub.status.busy": "2023-05-16T01:52:24.986887Z",
     "iopub.status.idle": "2023-05-16T01:52:25.035372Z",
     "shell.execute_reply": "2023-05-16T01:52:25.034066Z"
    },
    "papermill": {
     "duration": 0.066719,
     "end_time": "2023-05-16T01:52:25.038120",
     "exception": false,
     "start_time": "2023-05-16T01:52:24.971401",
     "status": "completed"
    },
    "tags": []
   },
   "outputs": [
    {
     "data": {
      "text/plain": [
       "50000"
      ]
     },
     "execution_count": 10,
     "metadata": {},
     "output_type": "execute_result"
    }
   ],
   "source": [
    "\n",
    "for i in range(1000,5000):\n",
    "    k = '{}{}.jpg'.format(base__train_real, i)\n",
    "    train_path_real.append(k)\n",
    "\n",
    "for i in range(1000,5000):\n",
    "    for j in range(2,11):\n",
    "        l = '{}{} ({}).jpg'.format(base__train_real, i,j)\n",
    "        train_path_real.append(l)\n",
    "len(train_path_real)\n"
   ]
  },
  {
   "cell_type": "code",
   "execution_count": 11,
   "id": "e508cf15",
   "metadata": {
    "execution": {
     "iopub.execute_input": "2023-05-16T01:52:25.068212Z",
     "iopub.status.busy": "2023-05-16T01:52:25.067454Z",
     "iopub.status.idle": "2023-05-16T01:52:25.083647Z",
     "shell.execute_reply": "2023-05-16T01:52:25.082499Z"
    },
    "papermill": {
     "duration": 0.033659,
     "end_time": "2023-05-16T01:52:25.085875",
     "exception": false,
     "start_time": "2023-05-16T01:52:25.052216",
     "status": "completed"
    },
    "tags": []
   },
   "outputs": [
    {
     "data": {
      "text/html": [
       "<div>\n",
       "<style scoped>\n",
       "    .dataframe tbody tr th:only-of-type {\n",
       "        vertical-align: middle;\n",
       "    }\n",
       "\n",
       "    .dataframe tbody tr th {\n",
       "        vertical-align: top;\n",
       "    }\n",
       "\n",
       "    .dataframe thead th {\n",
       "        text-align: right;\n",
       "    }\n",
       "</style>\n",
       "<table border=\"1\" class=\"dataframe\">\n",
       "  <thead>\n",
       "    <tr style=\"text-align: right;\">\n",
       "      <th></th>\n",
       "      <th>path</th>\n",
       "      <th>label</th>\n",
       "    </tr>\n",
       "  </thead>\n",
       "  <tbody>\n",
       "    <tr>\n",
       "      <th>0</th>\n",
       "      <td>./data/cifake/train/REAL/0000.jpg</td>\n",
       "      <td>1</td>\n",
       "    </tr>\n",
       "    <tr>\n",
       "      <th>1</th>\n",
       "      <td>./data/cifake/train/REAL/0001.jpg</td>\n",
       "      <td>1</td>\n",
       "    </tr>\n",
       "    <tr>\n",
       "      <th>2</th>\n",
       "      <td>./data/cifake/train/REAL/0002.jpg</td>\n",
       "      <td>1</td>\n",
       "    </tr>\n",
       "    <tr>\n",
       "      <th>3</th>\n",
       "      <td>./data/cifake/train/REAL/0003.jpg</td>\n",
       "      <td>1</td>\n",
       "    </tr>\n",
       "    <tr>\n",
       "      <th>4</th>\n",
       "      <td>./data/cifake/train/REAL/0004.jpg</td>\n",
       "      <td>1</td>\n",
       "    </tr>\n",
       "  </tbody>\n",
       "</table>\n",
       "</div>"
      ],
      "text/plain": [
       "                                path  label\n",
       "0  ./data/cifake/train/REAL/0000.jpg      1\n",
       "1  ./data/cifake/train/REAL/0001.jpg      1\n",
       "2  ./data/cifake/train/REAL/0002.jpg      1\n",
       "3  ./data/cifake/train/REAL/0003.jpg      1\n",
       "4  ./data/cifake/train/REAL/0004.jpg      1"
      ]
     },
     "execution_count": 11,
     "metadata": {},
     "output_type": "execute_result"
    }
   ],
   "source": [
    "df_train_real = pd.DataFrame(train_path_real)\n",
    "df_train_real.columns = ['path']\n",
    "df_train_real['label'] = 1\n",
    "df_train_real.head()"
   ]
  },
  {
   "cell_type": "markdown",
   "id": "43891fd4",
   "metadata": {
    "papermill": {
     "duration": 0.014079,
     "end_time": "2023-05-16T01:52:25.114408",
     "exception": false,
     "start_time": "2023-05-16T01:52:25.100329",
     "status": "completed"
    },
    "tags": []
   },
   "source": [
    "## Using **\"concat\"** to create  **\"df_train\"**"
   ]
  },
  {
   "cell_type": "code",
   "execution_count": 12,
   "id": "7a87a3a0",
   "metadata": {
    "execution": {
     "iopub.execute_input": "2023-05-16T01:52:25.144899Z",
     "iopub.status.busy": "2023-05-16T01:52:25.144470Z",
     "iopub.status.idle": "2023-05-16T01:52:25.169985Z",
     "shell.execute_reply": "2023-05-16T01:52:25.168738Z"
    },
    "papermill": {
     "duration": 0.043494,
     "end_time": "2023-05-16T01:52:25.172283",
     "exception": false,
     "start_time": "2023-05-16T01:52:25.128789",
     "status": "completed"
    },
    "tags": []
   },
   "outputs": [
    {
     "name": "stdout",
     "output_type": "stream",
     "text": [
      "(100000, 2)\n"
     ]
    },
    {
     "data": {
      "text/html": [
       "<div>\n",
       "<style scoped>\n",
       "    .dataframe tbody tr th:only-of-type {\n",
       "        vertical-align: middle;\n",
       "    }\n",
       "\n",
       "    .dataframe tbody tr th {\n",
       "        vertical-align: top;\n",
       "    }\n",
       "\n",
       "    .dataframe thead th {\n",
       "        text-align: right;\n",
       "    }\n",
       "</style>\n",
       "<table border=\"1\" class=\"dataframe\">\n",
       "  <thead>\n",
       "    <tr style=\"text-align: right;\">\n",
       "      <th></th>\n",
       "      <th>path</th>\n",
       "      <th>label</th>\n",
       "    </tr>\n",
       "  </thead>\n",
       "  <tbody>\n",
       "    <tr>\n",
       "      <th>16982</th>\n",
       "      <td>./data/cifake/train/FAKE/2331 (5).jpg</td>\n",
       "      <td>0</td>\n",
       "    </tr>\n",
       "    <tr>\n",
       "      <th>45563</th>\n",
       "      <td>./data/cifake/train/REAL/4507 (2).jpg</td>\n",
       "      <td>1</td>\n",
       "    </tr>\n",
       "    <tr>\n",
       "      <th>34066</th>\n",
       "      <td>./data/cifake/train/FAKE/4229 (7).jpg</td>\n",
       "      <td>0</td>\n",
       "    </tr>\n",
       "    <tr>\n",
       "      <th>892</th>\n",
       "      <td>./data/cifake/train/FAKE/1892.jpg</td>\n",
       "      <td>0</td>\n",
       "    </tr>\n",
       "    <tr>\n",
       "      <th>5624</th>\n",
       "      <td>./data/cifake/train/FAKE/1069 (5).jpg</td>\n",
       "      <td>0</td>\n",
       "    </tr>\n",
       "  </tbody>\n",
       "</table>\n",
       "</div>"
      ],
      "text/plain": [
       "                                        path  label\n",
       "16982  ./data/cifake/train/FAKE/2331 (5).jpg      0\n",
       "45563  ./data/cifake/train/REAL/4507 (2).jpg      1\n",
       "34066  ./data/cifake/train/FAKE/4229 (7).jpg      0\n",
       "892        ./data/cifake/train/FAKE/1892.jpg      0\n",
       "5624   ./data/cifake/train/FAKE/1069 (5).jpg      0"
      ]
     },
     "execution_count": 12,
     "metadata": {},
     "output_type": "execute_result"
    }
   ],
   "source": [
    "df_train = pd.concat((df_train_fake, df_train_real), axis = 0 )\n",
    "print(df_train.shape)\n",
    "df_train.sample(5)\n"
   ]
  },
  {
   "cell_type": "markdown",
   "id": "b587771f",
   "metadata": {
    "papermill": {
     "duration": 0.014864,
     "end_time": "2023-05-16T01:52:25.201771",
     "exception": false,
     "start_time": "2023-05-16T01:52:25.186907",
     "status": "completed"
    },
    "tags": []
   },
   "source": [
    "## Using **'cv2'** for X_train "
   ]
  },
  {
   "cell_type": "code",
   "execution_count": 13,
   "id": "33ae568b",
   "metadata": {
    "execution": {
     "iopub.execute_input": "2023-05-16T01:52:25.233474Z",
     "iopub.status.busy": "2023-05-16T01:52:25.233023Z",
     "iopub.status.idle": "2023-05-16T02:05:24.967917Z",
     "shell.execute_reply": "2023-05-16T02:05:24.966622Z"
    },
    "papermill": {
     "duration": 779.768817,
     "end_time": "2023-05-16T02:05:24.985373",
     "exception": false,
     "start_time": "2023-05-16T01:52:25.216556",
     "status": "completed"
    },
    "tags": []
   },
   "outputs": [
    {
     "data": {
      "text/plain": [
       "4"
      ]
     },
     "execution_count": 13,
     "metadata": {},
     "output_type": "execute_result"
    }
   ],
   "source": [
    "image_df = []\n",
    "for image in df_train['path']:\n",
    "    img = cv2.imread(image)\n",
    "    resized = cv2.resize(img,(32,32))\n",
    "    image_df.append(resized)\n",
    "image_array = np.array(image_df)\n",
    "X_train = image_array/255\n",
    "X_train.ndim"
   ]
  },
  {
   "cell_type": "code",
   "execution_count": 14,
   "id": "59baa87c",
   "metadata": {},
   "outputs": [],
   "source": [
    "np.save('./processed-data/X_train.npy', X_train)"
   ]
  },
  {
   "cell_type": "markdown",
   "id": "09025490",
   "metadata": {},
   "source": [
    "Loading time ~1.5 min"
   ]
  },
  {
   "cell_type": "code",
   "execution_count": 15,
   "id": "f5d37c98",
   "metadata": {
    "execution": {
     "iopub.execute_input": "2023-05-16T02:05:25.016505Z",
     "iopub.status.busy": "2023-05-16T02:05:25.016115Z",
     "iopub.status.idle": "2023-05-16T02:05:25.024259Z",
     "shell.execute_reply": "2023-05-16T02:05:25.023178Z"
    },
    "papermill": {
     "duration": 0.026986,
     "end_time": "2023-05-16T02:05:25.027013",
     "exception": false,
     "start_time": "2023-05-16T02:05:25.000027",
     "status": "completed"
    },
    "tags": []
   },
   "outputs": [
    {
     "data": {
      "text/plain": [
       "0    0\n",
       "1    0\n",
       "2    0\n",
       "3    0\n",
       "4    0\n",
       "Name: label, dtype: int64"
      ]
     },
     "execution_count": 15,
     "metadata": {},
     "output_type": "execute_result"
    }
   ],
   "source": [
    "y_train = df_train['label']\n",
    "y_train.head()"
   ]
  },
  {
   "cell_type": "code",
   "execution_count": 16,
   "id": "c017a726",
   "metadata": {},
   "outputs": [],
   "source": [
    "np.save('./processed-data/y_train.npy', y_train)"
   ]
  },
  {
   "cell_type": "markdown",
   "id": "c0607ab1",
   "metadata": {
    "papermill": {
     "duration": 0.014569,
     "end_time": "2023-05-16T02:05:25.057037",
     "exception": false,
     "start_time": "2023-05-16T02:05:25.042468",
     "status": "completed"
    },
    "tags": []
   },
   "source": [
    "## **TEST DATAFRAME**"
   ]
  },
  {
   "cell_type": "markdown",
   "id": "8dc0b134",
   "metadata": {
    "papermill": {
     "duration": 0.014459,
     "end_time": "2023-05-16T02:05:25.086367",
     "exception": false,
     "start_time": "2023-05-16T02:05:25.071908",
     "status": "completed"
    },
    "tags": []
   },
   "source": [
    "## Creating Testing Dataframe for **\"Fake Image\"**"
   ]
  },
  {
   "cell_type": "code",
   "execution_count": 17,
   "id": "22776197",
   "metadata": {
    "execution": {
     "iopub.execute_input": "2023-05-16T02:05:25.118933Z",
     "iopub.status.busy": "2023-05-16T02:05:25.118189Z",
     "iopub.status.idle": "2023-05-16T02:05:25.140696Z",
     "shell.execute_reply": "2023-05-16T02:05:25.139506Z"
    },
    "papermill": {
     "duration": 0.041698,
     "end_time": "2023-05-16T02:05:25.143414",
     "exception": false,
     "start_time": "2023-05-16T02:05:25.101716",
     "status": "completed"
    },
    "tags": []
   },
   "outputs": [
    {
     "data": {
      "text/plain": [
       "10000"
      ]
     },
     "execution_count": 17,
     "metadata": {},
     "output_type": "execute_result"
    }
   ],
   "source": [
    "test_path_fake =[]\n",
    "\n",
    "base_test_fake = base_url+'/test/FAKE/'\n",
    "\n",
    "for i in range(0,1000):\n",
    "    m = '{}{}.jpg'.format(base_test_fake, i)\n",
    "    test_path_fake.append(m)\n",
    "    \n",
    "for i in range(0,1000):\n",
    "    for j in range(2,11):\n",
    "        n = '{}{} ({}).jpg'.format(base_test_fake, i, j)\n",
    "        test_path_fake.append(n)\n",
    "len(test_path_fake)\n"
   ]
  },
  {
   "cell_type": "code",
   "execution_count": 18,
   "id": "7bcd74f0",
   "metadata": {
    "execution": {
     "iopub.execute_input": "2023-05-16T02:05:25.175143Z",
     "iopub.status.busy": "2023-05-16T02:05:25.174727Z",
     "iopub.status.idle": "2023-05-16T02:05:25.188360Z",
     "shell.execute_reply": "2023-05-16T02:05:25.187307Z"
    },
    "papermill": {
     "duration": 0.032367,
     "end_time": "2023-05-16T02:05:25.190820",
     "exception": false,
     "start_time": "2023-05-16T02:05:25.158453",
     "status": "completed"
    },
    "tags": []
   },
   "outputs": [
    {
     "data": {
      "text/html": [
       "<div>\n",
       "<style scoped>\n",
       "    .dataframe tbody tr th:only-of-type {\n",
       "        vertical-align: middle;\n",
       "    }\n",
       "\n",
       "    .dataframe tbody tr th {\n",
       "        vertical-align: top;\n",
       "    }\n",
       "\n",
       "    .dataframe thead th {\n",
       "        text-align: right;\n",
       "    }\n",
       "</style>\n",
       "<table border=\"1\" class=\"dataframe\">\n",
       "  <thead>\n",
       "    <tr style=\"text-align: right;\">\n",
       "      <th></th>\n",
       "      <th>path</th>\n",
       "      <th>label</th>\n",
       "    </tr>\n",
       "  </thead>\n",
       "  <tbody>\n",
       "    <tr>\n",
       "      <th>0</th>\n",
       "      <td>./data/cifake/test/FAKE/0.jpg</td>\n",
       "      <td>0</td>\n",
       "    </tr>\n",
       "    <tr>\n",
       "      <th>1</th>\n",
       "      <td>./data/cifake/test/FAKE/1.jpg</td>\n",
       "      <td>0</td>\n",
       "    </tr>\n",
       "    <tr>\n",
       "      <th>2</th>\n",
       "      <td>./data/cifake/test/FAKE/2.jpg</td>\n",
       "      <td>0</td>\n",
       "    </tr>\n",
       "    <tr>\n",
       "      <th>3</th>\n",
       "      <td>./data/cifake/test/FAKE/3.jpg</td>\n",
       "      <td>0</td>\n",
       "    </tr>\n",
       "    <tr>\n",
       "      <th>4</th>\n",
       "      <td>./data/cifake/test/FAKE/4.jpg</td>\n",
       "      <td>0</td>\n",
       "    </tr>\n",
       "  </tbody>\n",
       "</table>\n",
       "</div>"
      ],
      "text/plain": [
       "                            path  label\n",
       "0  ./data/cifake/test/FAKE/0.jpg      0\n",
       "1  ./data/cifake/test/FAKE/1.jpg      0\n",
       "2  ./data/cifake/test/FAKE/2.jpg      0\n",
       "3  ./data/cifake/test/FAKE/3.jpg      0\n",
       "4  ./data/cifake/test/FAKE/4.jpg      0"
      ]
     },
     "execution_count": 18,
     "metadata": {},
     "output_type": "execute_result"
    }
   ],
   "source": [
    "df_test_fake = pd.DataFrame(test_path_fake)\n",
    "df_test_fake.columns = ['path']\n",
    "df_test_fake['label'] = 0\n",
    "df_test_fake.head()"
   ]
  },
  {
   "cell_type": "markdown",
   "id": "f1bb5cff",
   "metadata": {
    "papermill": {
     "duration": 0.015363,
     "end_time": "2023-05-16T02:05:25.221944",
     "exception": false,
     "start_time": "2023-05-16T02:05:25.206581",
     "status": "completed"
    },
    "tags": []
   },
   "source": [
    "## Creating Testing Dataframe for **\"Real Image\"**"
   ]
  },
  {
   "cell_type": "code",
   "execution_count": 19,
   "id": "82382dc6",
   "metadata": {
    "execution": {
     "iopub.execute_input": "2023-05-16T02:05:25.254131Z",
     "iopub.status.busy": "2023-05-16T02:05:25.253701Z",
     "iopub.status.idle": "2023-05-16T02:05:25.263253Z",
     "shell.execute_reply": "2023-05-16T02:05:25.262210Z"
    },
    "papermill": {
     "duration": 0.028521,
     "end_time": "2023-05-16T02:05:25.265710",
     "exception": false,
     "start_time": "2023-05-16T02:05:25.237189",
     "status": "completed"
    },
    "tags": []
   },
   "outputs": [
    {
     "data": {
      "text/plain": [
       "100"
      ]
     },
     "execution_count": 19,
     "metadata": {},
     "output_type": "execute_result"
    }
   ],
   "source": [
    "test_path_real =[]\n",
    "\n",
    "base_test_real = base_url+'/test/REAL/'\n",
    "\n",
    "for i in range(0,10):\n",
    "    o = '{}000{}.jpg'.format(base_test_real, i)\n",
    "    test_path_real.append(o)\n",
    "\n",
    "for i in range(0,10):\n",
    "    for j in range(2,11):\n",
    "        p = '{}000{} ({}).jpg'.format(base_test_real, i,j)\n",
    "        test_path_real.append(p)\n",
    "len(test_path_real)\n"
   ]
  },
  {
   "cell_type": "code",
   "execution_count": 20,
   "id": "68e30484",
   "metadata": {
    "execution": {
     "iopub.execute_input": "2023-05-16T02:05:25.298306Z",
     "iopub.status.busy": "2023-05-16T02:05:25.297872Z",
     "iopub.status.idle": "2023-05-16T02:05:25.308297Z",
     "shell.execute_reply": "2023-05-16T02:05:25.307080Z"
    },
    "papermill": {
     "duration": 0.029756,
     "end_time": "2023-05-16T02:05:25.310868",
     "exception": false,
     "start_time": "2023-05-16T02:05:25.281112",
     "status": "completed"
    },
    "tags": []
   },
   "outputs": [
    {
     "data": {
      "text/plain": [
       "1000"
      ]
     },
     "execution_count": 20,
     "metadata": {},
     "output_type": "execute_result"
    }
   ],
   "source": [
    "for i in range(10,100):\n",
    "    q = '{}00{}.jpg'.format(base_test_real, i)\n",
    "    test_path_real.append(q)\n",
    "\n",
    "for i in range(10,100):\n",
    "    for j in range(2,11):\n",
    "        r = '{}00{} ({}).jpg'.format(base_test_real, i,j)\n",
    "        test_path_real.append(r)\n",
    "len(test_path_real) \n"
   ]
  },
  {
   "cell_type": "code",
   "execution_count": 21,
   "id": "4ff7106a",
   "metadata": {
    "execution": {
     "iopub.execute_input": "2023-05-16T02:05:25.343520Z",
     "iopub.status.busy": "2023-05-16T02:05:25.343110Z",
     "iopub.status.idle": "2023-05-16T02:05:25.363235Z",
     "shell.execute_reply": "2023-05-16T02:05:25.362334Z"
    },
    "papermill": {
     "duration": 0.039055,
     "end_time": "2023-05-16T02:05:25.365389",
     "exception": false,
     "start_time": "2023-05-16T02:05:25.326334",
     "status": "completed"
    },
    "tags": []
   },
   "outputs": [
    {
     "data": {
      "text/plain": [
       "10000"
      ]
     },
     "execution_count": 21,
     "metadata": {},
     "output_type": "execute_result"
    }
   ],
   "source": [
    "for i in range(100,1000):\n",
    "    s = '{}0{}.jpg'.format(base_test_real, i)\n",
    "    test_path_real.append(s)\n",
    "    \n",
    "for i in range(100,1000):\n",
    "    for j in range(2,11):\n",
    "        t = '{}0{} ({}).jpg'.format(base_test_real, i,j)\n",
    "        test_path_real.append(t)\n",
    "len(test_path_real)"
   ]
  },
  {
   "cell_type": "code",
   "execution_count": 22,
   "id": "69884b25",
   "metadata": {
    "execution": {
     "iopub.execute_input": "2023-05-16T02:05:25.398357Z",
     "iopub.status.busy": "2023-05-16T02:05:25.397951Z",
     "iopub.status.idle": "2023-05-16T02:05:25.411404Z",
     "shell.execute_reply": "2023-05-16T02:05:25.410251Z"
    },
    "papermill": {
     "duration": 0.032679,
     "end_time": "2023-05-16T02:05:25.413707",
     "exception": false,
     "start_time": "2023-05-16T02:05:25.381028",
     "status": "completed"
    },
    "tags": []
   },
   "outputs": [
    {
     "data": {
      "text/html": [
       "<div>\n",
       "<style scoped>\n",
       "    .dataframe tbody tr th:only-of-type {\n",
       "        vertical-align: middle;\n",
       "    }\n",
       "\n",
       "    .dataframe tbody tr th {\n",
       "        vertical-align: top;\n",
       "    }\n",
       "\n",
       "    .dataframe thead th {\n",
       "        text-align: right;\n",
       "    }\n",
       "</style>\n",
       "<table border=\"1\" class=\"dataframe\">\n",
       "  <thead>\n",
       "    <tr style=\"text-align: right;\">\n",
       "      <th></th>\n",
       "      <th>path</th>\n",
       "      <th>label</th>\n",
       "    </tr>\n",
       "  </thead>\n",
       "  <tbody>\n",
       "    <tr>\n",
       "      <th>0</th>\n",
       "      <td>./data/cifake/test/REAL/0000.jpg</td>\n",
       "      <td>1</td>\n",
       "    </tr>\n",
       "    <tr>\n",
       "      <th>1</th>\n",
       "      <td>./data/cifake/test/REAL/0001.jpg</td>\n",
       "      <td>1</td>\n",
       "    </tr>\n",
       "    <tr>\n",
       "      <th>2</th>\n",
       "      <td>./data/cifake/test/REAL/0002.jpg</td>\n",
       "      <td>1</td>\n",
       "    </tr>\n",
       "    <tr>\n",
       "      <th>3</th>\n",
       "      <td>./data/cifake/test/REAL/0003.jpg</td>\n",
       "      <td>1</td>\n",
       "    </tr>\n",
       "    <tr>\n",
       "      <th>4</th>\n",
       "      <td>./data/cifake/test/REAL/0004.jpg</td>\n",
       "      <td>1</td>\n",
       "    </tr>\n",
       "  </tbody>\n",
       "</table>\n",
       "</div>"
      ],
      "text/plain": [
       "                               path  label\n",
       "0  ./data/cifake/test/REAL/0000.jpg      1\n",
       "1  ./data/cifake/test/REAL/0001.jpg      1\n",
       "2  ./data/cifake/test/REAL/0002.jpg      1\n",
       "3  ./data/cifake/test/REAL/0003.jpg      1\n",
       "4  ./data/cifake/test/REAL/0004.jpg      1"
      ]
     },
     "execution_count": 22,
     "metadata": {},
     "output_type": "execute_result"
    }
   ],
   "source": [
    "df_test_real = pd.DataFrame(test_path_real)\n",
    "df_test_real.columns = ['path']\n",
    "df_test_real['label'] = 1\n",
    "df_test_real.head()"
   ]
  },
  {
   "cell_type": "markdown",
   "id": "ac513591",
   "metadata": {
    "papermill": {
     "duration": 0.01539,
     "end_time": "2023-05-16T02:05:25.444894",
     "exception": false,
     "start_time": "2023-05-16T02:05:25.429504",
     "status": "completed"
    },
    "tags": []
   },
   "source": [
    "## Using **\"concat\"** to create  **\"df_test\"**"
   ]
  },
  {
   "cell_type": "code",
   "execution_count": 23,
   "id": "2fdc0103",
   "metadata": {
    "execution": {
     "iopub.execute_input": "2023-05-16T02:05:25.478067Z",
     "iopub.status.busy": "2023-05-16T02:05:25.477669Z",
     "iopub.status.idle": "2023-05-16T02:05:25.492235Z",
     "shell.execute_reply": "2023-05-16T02:05:25.491171Z"
    },
    "papermill": {
     "duration": 0.033727,
     "end_time": "2023-05-16T02:05:25.494332",
     "exception": false,
     "start_time": "2023-05-16T02:05:25.460605",
     "status": "completed"
    },
    "tags": []
   },
   "outputs": [
    {
     "name": "stdout",
     "output_type": "stream",
     "text": [
      "(20000, 2)\n"
     ]
    },
    {
     "data": {
      "text/html": [
       "<div>\n",
       "<style scoped>\n",
       "    .dataframe tbody tr th:only-of-type {\n",
       "        vertical-align: middle;\n",
       "    }\n",
       "\n",
       "    .dataframe tbody tr th {\n",
       "        vertical-align: top;\n",
       "    }\n",
       "\n",
       "    .dataframe thead th {\n",
       "        text-align: right;\n",
       "    }\n",
       "</style>\n",
       "<table border=\"1\" class=\"dataframe\">\n",
       "  <thead>\n",
       "    <tr style=\"text-align: right;\">\n",
       "      <th></th>\n",
       "      <th>path</th>\n",
       "      <th>label</th>\n",
       "    </tr>\n",
       "  </thead>\n",
       "  <tbody>\n",
       "    <tr>\n",
       "      <th>8061</th>\n",
       "      <td>./data/cifake/test/REAL/0784 (7).jpg</td>\n",
       "      <td>1</td>\n",
       "    </tr>\n",
       "    <tr>\n",
       "      <th>1876</th>\n",
       "      <td>./data/cifake/test/FAKE/97 (5).jpg</td>\n",
       "      <td>0</td>\n",
       "    </tr>\n",
       "    <tr>\n",
       "      <th>9445</th>\n",
       "      <td>./data/cifake/test/FAKE/938 (5).jpg</td>\n",
       "      <td>0</td>\n",
       "    </tr>\n",
       "    <tr>\n",
       "      <th>8294</th>\n",
       "      <td>./data/cifake/test/FAKE/810 (6).jpg</td>\n",
       "      <td>0</td>\n",
       "    </tr>\n",
       "    <tr>\n",
       "      <th>4531</th>\n",
       "      <td>./data/cifake/test/FAKE/392 (5).jpg</td>\n",
       "      <td>0</td>\n",
       "    </tr>\n",
       "  </tbody>\n",
       "</table>\n",
       "</div>"
      ],
      "text/plain": [
       "                                      path  label\n",
       "8061  ./data/cifake/test/REAL/0784 (7).jpg      1\n",
       "1876    ./data/cifake/test/FAKE/97 (5).jpg      0\n",
       "9445   ./data/cifake/test/FAKE/938 (5).jpg      0\n",
       "8294   ./data/cifake/test/FAKE/810 (6).jpg      0\n",
       "4531   ./data/cifake/test/FAKE/392 (5).jpg      0"
      ]
     },
     "execution_count": 23,
     "metadata": {},
     "output_type": "execute_result"
    }
   ],
   "source": [
    "df_test = pd.concat((df_test_fake, df_test_real), axis = 0 )\n",
    "print(df_test.shape)\n",
    "df_test.sample(5)\n"
   ]
  },
  {
   "cell_type": "markdown",
   "id": "f7be15e2",
   "metadata": {
    "papermill": {
     "duration": 0.015689,
     "end_time": "2023-05-16T02:05:25.526103",
     "exception": false,
     "start_time": "2023-05-16T02:05:25.510414",
     "status": "completed"
    },
    "tags": []
   },
   "source": [
    "## Using **\"cv2\"** to create X_test"
   ]
  },
  {
   "cell_type": "code",
   "execution_count": 24,
   "id": "df92e04c",
   "metadata": {
    "execution": {
     "iopub.execute_input": "2023-05-16T02:05:25.559938Z",
     "iopub.status.busy": "2023-05-16T02:05:25.559541Z",
     "iopub.status.idle": "2023-05-16T02:08:01.185535Z",
     "shell.execute_reply": "2023-05-16T02:08:01.183048Z"
    },
    "papermill": {
     "duration": 155.6614,
     "end_time": "2023-05-16T02:08:01.203496",
     "exception": false,
     "start_time": "2023-05-16T02:05:25.542096",
     "status": "completed"
    },
    "tags": []
   },
   "outputs": [
    {
     "data": {
      "text/plain": [
       "4"
      ]
     },
     "execution_count": 24,
     "metadata": {},
     "output_type": "execute_result"
    }
   ],
   "source": [
    "image_ds = []\n",
    "for image in df_test['path']:\n",
    "    imge = cv2.imread(image)\n",
    "    resize = cv2.resize(imge,(32,32))\n",
    "    image_ds.append(resize)\n",
    "image_arry = np.array(image_ds)\n",
    "X_test = image_arry/255\n",
    "X_test.ndim"
   ]
  },
  {
   "cell_type": "code",
   "execution_count": 25,
   "id": "0c069a4c",
   "metadata": {},
   "outputs": [],
   "source": [
    "np.save('./processed-data/X_test.npy', X_test)"
   ]
  },
  {
   "cell_type": "code",
   "execution_count": 26,
   "id": "dc05e083",
   "metadata": {
    "execution": {
     "iopub.execute_input": "2023-05-16T02:08:01.238645Z",
     "iopub.status.busy": "2023-05-16T02:08:01.238234Z",
     "iopub.status.idle": "2023-05-16T02:08:01.246358Z",
     "shell.execute_reply": "2023-05-16T02:08:01.245176Z"
    },
    "papermill": {
     "duration": 0.028614,
     "end_time": "2023-05-16T02:08:01.248897",
     "exception": false,
     "start_time": "2023-05-16T02:08:01.220283",
     "status": "completed"
    },
    "tags": []
   },
   "outputs": [
    {
     "data": {
      "text/plain": [
       "0    0\n",
       "1    0\n",
       "2    0\n",
       "3    0\n",
       "4    0\n",
       "Name: label, dtype: int64"
      ]
     },
     "execution_count": 26,
     "metadata": {},
     "output_type": "execute_result"
    }
   ],
   "source": [
    "y_test = df_test['label']\n",
    "y_test.head()"
   ]
  },
  {
   "cell_type": "code",
   "execution_count": 27,
   "id": "c15c20fc",
   "metadata": {},
   "outputs": [],
   "source": [
    "np.save('./processed-data/y_test.npy', y_test)"
   ]
  }
 ],
 "metadata": {
  "kernelspec": {
   "display_name": "Python 3",
   "language": "python",
   "name": "python3"
  },
  "language_info": {
   "codemirror_mode": {
    "name": "ipython",
    "version": 3
   },
   "file_extension": ".py",
   "mimetype": "text/x-python",
   "name": "python",
   "nbconvert_exporter": "python",
   "pygments_lexer": "ipython3",
   "version": "3.12.3"
  },
  "papermill": {
   "default_parameters": {},
   "duration": 1602.885985,
   "end_time": "2023-05-16T02:18:54.287650",
   "environment_variables": {},
   "exception": null,
   "input_path": "__notebook__.ipynb",
   "output_path": "__notebook__.ipynb",
   "parameters": {},
   "start_time": "2023-05-16T01:52:11.401665",
   "version": "2.4.0"
  }
 },
 "nbformat": 4,
 "nbformat_minor": 5
}
