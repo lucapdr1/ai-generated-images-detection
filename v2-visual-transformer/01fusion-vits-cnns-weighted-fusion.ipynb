{
 "cells": [
  {
   "cell_type": "code",
   "execution_count": 1,
   "id": "5296587d",
   "metadata": {
    "execution": {
     "iopub.execute_input": "2024-05-06T19:01:22.617207Z",
     "iopub.status.busy": "2024-05-06T19:01:22.616868Z",
     "iopub.status.idle": "2024-05-06T19:01:50.325900Z",
     "shell.execute_reply": "2024-05-06T19:01:50.324470Z"
    },
    "papermill": {
     "duration": 27.718073,
     "end_time": "2024-05-06T19:01:50.328397",
     "exception": false,
     "start_time": "2024-05-06T19:01:22.610324",
     "status": "completed"
    },
    "tags": []
   },
   "outputs": [
    {
     "name": "stderr",
     "output_type": "stream",
     "text": [
      "2024-05-06 19:01:25.340638: E external/local_xla/xla/stream_executor/cuda/cuda_dnn.cc:9261] Unable to register cuDNN factory: Attempting to register factory for plugin cuDNN when one has already been registered\n",
      "2024-05-06 19:01:25.340769: E external/local_xla/xla/stream_executor/cuda/cuda_fft.cc:607] Unable to register cuFFT factory: Attempting to register factory for plugin cuFFT when one has already been registered\n",
      "2024-05-06 19:01:25.491985: E external/local_xla/xla/stream_executor/cuda/cuda_blas.cc:1515] Unable to register cuBLAS factory: Attempting to register factory for plugin cuBLAS when one has already been registered\n"
     ]
    },
    {
     "name": "stdout",
     "output_type": "stream",
     "text": [
      "Requirement already satisfied: conda in /opt/conda/lib/python3.10/site-packages (23.7.4)\r\n",
      "Requirement already satisfied: boltons>=23.0.0 in /opt/conda/lib/python3.10/site-packages (from conda) (23.1.1)\r\n",
      "Requirement already satisfied: conda-package-handling>=1.3.0 in /opt/conda/lib/python3.10/site-packages (from conda) (2.2.0)\r\n",
      "Requirement already satisfied: jsonpatch>=1.32 in /opt/conda/lib/python3.10/site-packages (from conda) (1.33)\r\n",
      "Requirement already satisfied: packaging in /opt/conda/lib/python3.10/site-packages (from conda) (21.3)\r\n",
      "Requirement already satisfied: pluggy>=1.0.0 in /opt/conda/lib/python3.10/site-packages (from conda) (1.3.0)\r\n",
      "Requirement already satisfied: pycosat>=0.6.3 in /opt/conda/lib/python3.10/site-packages (from conda) (0.6.6)\r\n",
      "Requirement already satisfied: pyopenssl>=16.2.0 in /opt/conda/lib/python3.10/site-packages (from conda) (23.3.0)\r\n",
      "Requirement already satisfied: requests<3,>=2.27.0 in /opt/conda/lib/python3.10/site-packages (from conda) (2.31.0)\r\n",
      "Requirement already satisfied: ruamel-yaml<0.18,>=0.11.14 in /opt/conda/lib/python3.10/site-packages (from conda) (0.17.40)\r\n",
      "Requirement already satisfied: setuptools>=60.0.0 in /opt/conda/lib/python3.10/site-packages (from conda) (69.0.3)\r\n",
      "Requirement already satisfied: toolz>=0.8.1 in /opt/conda/lib/python3.10/site-packages (from conda) (0.12.0)\r\n",
      "Requirement already satisfied: tqdm>=4 in /opt/conda/lib/python3.10/site-packages (from conda) (4.66.1)\r\n",
      "Requirement already satisfied: conda-package-streaming>=0.9.0 in /opt/conda/lib/python3.10/site-packages (from conda-package-handling>=1.3.0->conda) (0.9.0)\r\n",
      "Requirement already satisfied: jsonpointer>=1.9 in /opt/conda/lib/python3.10/site-packages (from jsonpatch>=1.32->conda) (2.4)\r\n",
      "Requirement already satisfied: cryptography<42,>=41.0.5 in /opt/conda/lib/python3.10/site-packages (from pyopenssl>=16.2.0->conda) (41.0.7)\r\n",
      "Requirement already satisfied: charset-normalizer<4,>=2 in /opt/conda/lib/python3.10/site-packages (from requests<3,>=2.27.0->conda) (3.3.2)\r\n",
      "Requirement already satisfied: idna<4,>=2.5 in /opt/conda/lib/python3.10/site-packages (from requests<3,>=2.27.0->conda) (3.6)\r\n",
      "Requirement already satisfied: urllib3<3,>=1.21.1 in /opt/conda/lib/python3.10/site-packages (from requests<3,>=2.27.0->conda) (1.26.18)\r\n",
      "Requirement already satisfied: certifi>=2017.4.17 in /opt/conda/lib/python3.10/site-packages (from requests<3,>=2.27.0->conda) (2023.11.17)\r\n",
      "Requirement already satisfied: ruamel.yaml.clib>=0.2.7 in /opt/conda/lib/python3.10/site-packages (from ruamel-yaml<0.18,>=0.11.14->conda) (0.2.7)\r\n",
      "Requirement already satisfied: pyparsing!=3.0.5,>=2.0.2 in /opt/conda/lib/python3.10/site-packages (from packaging->conda) (3.1.1)\r\n",
      "Requirement already satisfied: zstandard>=0.15 in /opt/conda/lib/python3.10/site-packages (from conda-package-streaming>=0.9.0->conda-package-handling>=1.3.0->conda) (0.22.0)\r\n",
      "Requirement already satisfied: cffi>=1.12 in /opt/conda/lib/python3.10/site-packages (from cryptography<42,>=41.0.5->pyopenssl>=16.2.0->conda) (1.16.0)\r\n",
      "Requirement already satisfied: pycparser in /opt/conda/lib/python3.10/site-packages (from cffi>=1.12->cryptography<42,>=41.0.5->pyopenssl>=16.2.0->conda) (2.21)\r\n"
     ]
    }
   ],
   "source": [
    "import numpy as np\n",
    "import pandas as pd\n",
    "import matplotlib.pyplot as plt\n",
    "import tensorflow as tf\n",
    "from tensorflow.keras.layers import Dense, Dropout, BatchNormalization\n",
    "from tensorflow.keras import regularizers\n",
    "from IPython.display import Image\n",
    "!pip install conda"
   ]
  },
  {
   "cell_type": "code",
   "execution_count": 2,
   "id": "cce1901c",
   "metadata": {
    "execution": {
     "iopub.execute_input": "2024-05-06T19:01:50.342288Z",
     "iopub.status.busy": "2024-05-06T19:01:50.340979Z",
     "iopub.status.idle": "2024-05-06T19:02:02.597848Z",
     "shell.execute_reply": "2024-05-06T19:02:02.596974Z"
    },
    "papermill": {
     "duration": 12.265708,
     "end_time": "2024-05-06T19:02:02.600080",
     "exception": false,
     "start_time": "2024-05-06T19:01:50.334372",
     "status": "completed"
    },
    "tags": []
   },
   "outputs": [
    {
     "name": "stdout",
     "output_type": "stream",
     "text": [
      "Requirement already satisfied: opencv-python in /opt/conda/lib/python3.10/site-packages (4.9.0.80)\r\n",
      "Requirement already satisfied: numpy>=1.21.2 in /opt/conda/lib/python3.10/site-packages (from opencv-python) (1.24.4)\r\n"
     ]
    }
   ],
   "source": [
    "!pip install opencv-python\n",
    "import cv2"
   ]
  },
  {
   "cell_type": "code",
   "execution_count": 3,
   "id": "e2696537",
   "metadata": {
    "execution": {
     "iopub.execute_input": "2024-05-06T19:02:02.613371Z",
     "iopub.status.busy": "2024-05-06T19:02:02.612831Z",
     "iopub.status.idle": "2024-05-06T19:03:45.042839Z",
     "shell.execute_reply": "2024-05-06T19:03:45.041964Z"
    },
    "papermill": {
     "duration": 102.440121,
     "end_time": "2024-05-06T19:03:45.046042",
     "exception": false,
     "start_time": "2024-05-06T19:02:02.605921",
     "status": "completed"
    },
    "tags": []
   },
   "outputs": [
    {
     "name": "stdout",
     "output_type": "stream",
     "text": [
      "Loading dataset from: /kaggle/input/cifake-real-and-ai-generated-synthetic-images/\n"
     ]
    }
   ],
   "source": [
    "import os\n",
    "from pathlib import Path\n",
    "\n",
    "\n",
    "dataset_dir = \"/kaggle/input/cifake-real-and-ai-generated-synthetic-images/\" # For Kaggle notebooks. If you run locally, point this line to the CIFAKE directory\n",
    "print(\"Loading dataset from: \" + dataset_dir)\n",
    "\n",
    "dataset_dir_modified = \"/kaggle/working/cifake-real-and-ai-generated-synthetic-images/\"\n",
    "\n",
    "Path(dataset_dir_modified + \"test_modified/FAKE\").mkdir(parents=True, exist_ok=True)\n",
    "Path(dataset_dir_modified + \"test_modified/REAL\").mkdir(parents=True, exist_ok=True)\n",
    "# for all images in folder ./test\n",
    "for image in os.listdir(dataset_dir + 'test/FAKE'):\n",
    "    img = cv2.imread(dataset_dir + f'test/FAKE/{image}')\n",
    "    img_hsv = cv2.cvtColor(img, cv2.COLOR_BGR2HSV)\n",
    "    # modify img_hsv\n",
    "    img_hsv[:, :, 2] = img_hsv[:, :, 2] * 0.5 #lower the brightness to 50%\n",
    "\n",
    "    img_bgr = cv2.cvtColor(img_hsv, cv2.COLOR_HSV2BGR)\n",
    "    cv2.imwrite(dataset_dir_modified + f'./test_modified/FAKE/modified_{image}', img_bgr)\n",
    "\n",
    "for image in os.listdir(dataset_dir + 'test/REAL'):\n",
    "    img = cv2.imread(dataset_dir + f'test/REAL/{image}')\n",
    "    img_hsv = cv2.cvtColor(img, cv2.COLOR_BGR2HSV)\n",
    "    # modify img_hsv\n",
    "    img_hsv[:, :, 2] = img_hsv[:, :, 2] * 0.5 #lower the brightness to 50%\n",
    "\n",
    "    \n",
    "    img_bgr = cv2.cvtColor(img_hsv, cv2.COLOR_HSV2BGR)\n",
    "    cv2.imwrite(dataset_dir_modified + f'./test_modified/REAL/modified_{image}', img_bgr)"
   ]
  },
  {
   "cell_type": "code",
   "execution_count": 4,
   "id": "61bfcb85",
   "metadata": {
    "execution": {
     "iopub.execute_input": "2024-05-06T19:03:45.058799Z",
     "iopub.status.busy": "2024-05-06T19:03:45.058212Z",
     "iopub.status.idle": "2024-05-06T19:03:45.290919Z",
     "shell.execute_reply": "2024-05-06T19:03:45.290008Z"
    },
    "papermill": {
     "duration": 0.241888,
     "end_time": "2024-05-06T19:03:45.293623",
     "exception": false,
     "start_time": "2024-05-06T19:03:45.051735",
     "status": "completed"
    },
    "tags": []
   },
   "outputs": [
    {
     "name": "stdout",
     "output_type": "stream",
     "text": [
      "Num GPUs Available:  1\n"
     ]
    }
   ],
   "source": [
    "# Check if GPUs are available for training \n",
    "print(\"Num GPUs Available: \", len(tf.config.list_physical_devices('GPU')))"
   ]
  },
  {
   "cell_type": "code",
   "execution_count": 5,
   "id": "477c930d",
   "metadata": {
    "execution": {
     "iopub.execute_input": "2024-05-06T19:03:45.306055Z",
     "iopub.status.busy": "2024-05-06T19:03:45.305372Z",
     "iopub.status.idle": "2024-05-06T19:05:38.913563Z",
     "shell.execute_reply": "2024-05-06T19:05:38.912590Z"
    },
    "papermill": {
     "duration": 113.616818,
     "end_time": "2024-05-06T19:05:38.915878",
     "exception": false,
     "start_time": "2024-05-06T19:03:45.299060",
     "status": "completed"
    },
    "tags": []
   },
   "outputs": [
    {
     "name": "stdout",
     "output_type": "stream",
     "text": [
      "Found 100000 files belonging to 2 classes.\n",
      "Found 20000 files belonging to 2 classes.\n",
      "Training Classes:\n",
      "['FAKE', 'REAL']\n",
      "Testing Classes:\n",
      "['FAKE', 'REAL']\n"
     ]
    }
   ],
   "source": [
    "img_height = 32\n",
    "img_width = 32\n",
    "batch_size = 500\n",
    "\n",
    "# Load the training data\n",
    "train_ds = tf.keras.utils.image_dataset_from_directory(\n",
    "  dataset_dir + \"/train\",\n",
    "  seed = 512,\n",
    "  image_size = (img_height, img_width),\n",
    "  batch_size = batch_size\n",
    ")\n",
    "\n",
    "# Load the validation data\n",
    "val_ds = tf.keras.utils.image_dataset_from_directory(\n",
    "  dataset_dir_modified + \"test_modified\",\n",
    "  seed = 512,\n",
    "  image_size = (img_height, img_width),\n",
    "  batch_size = batch_size)\n",
    "\n",
    "\n",
    "print(\"Training Classes:\")\n",
    "class_names = train_ds.class_names\n",
    "print(class_names)\n",
    "\n",
    "print(\"Testing Classes:\")\n",
    "class_names = val_ds.class_names\n",
    "print(class_names)"
   ]
  },
  {
   "cell_type": "code",
   "execution_count": 6,
   "id": "6ef3a098",
   "metadata": {
    "execution": {
     "iopub.execute_input": "2024-05-06T19:05:38.928907Z",
     "iopub.status.busy": "2024-05-06T19:05:38.928265Z",
     "iopub.status.idle": "2024-05-06T19:05:40.231068Z",
     "shell.execute_reply": "2024-05-06T19:05:40.230251Z"
    },
    "papermill": {
     "duration": 1.311705,
     "end_time": "2024-05-06T19:05:40.233299",
     "exception": false,
     "start_time": "2024-05-06T19:05:38.921594",
     "status": "completed"
    },
    "tags": []
   },
   "outputs": [],
   "source": [
    "# Function for plotting the error rate and metrics rate\n",
    "def plot_metrics(history, metric):\n",
    "    plt.plot(history.history[metric], label = metric)\n",
    "    plt.plot(history.history['val_' + metric], label='val_' + metric)\n",
    "    plt.xlabel('Epochs')\n",
    "    plt.ylabel(metric)\n",
    "    plt.legend()\n",
    "    plt.show()\n",
    "    \n",
    "# Constant values that will be shared by all the models\n",
    "val_true_classes = np.concatenate([y for x, y in val_ds], axis = 0)  # Get true labels\n",
    "class_names = ['FAKE', 'REAL']\n",
    "early_stopping = tf.keras.callbacks.EarlyStopping(monitor = 'val_loss', patience = 10, restore_best_weights = True) "
   ]
  },
  {
   "cell_type": "code",
   "execution_count": 7,
   "id": "cf4cac6c",
   "metadata": {
    "execution": {
     "iopub.execute_input": "2024-05-06T19:05:40.246308Z",
     "iopub.status.busy": "2024-05-06T19:05:40.246007Z",
     "iopub.status.idle": "2024-05-06T19:06:05.295707Z",
     "shell.execute_reply": "2024-05-06T19:06:05.294696Z"
    },
    "papermill": {
     "duration": 25.058796,
     "end_time": "2024-05-06T19:06:05.298172",
     "exception": false,
     "start_time": "2024-05-06T19:05:40.239376",
     "status": "completed"
    },
    "tags": []
   },
   "outputs": [
    {
     "name": "stdout",
     "output_type": "stream",
     "text": [
      "Collecting vit_keras\r\n",
      "  Downloading vit_keras-0.1.2-py3-none-any.whl.metadata (4.0 kB)\r\n",
      "Requirement already satisfied: scipy in /opt/conda/lib/python3.10/site-packages (from vit_keras) (1.11.4)\r\n",
      "Collecting validators (from vit_keras)\r\n",
      "  Downloading validators-0.28.1-py3-none-any.whl.metadata (3.6 kB)\r\n",
      "Requirement already satisfied: numpy<1.28.0,>=1.21.6 in /opt/conda/lib/python3.10/site-packages (from scipy->vit_keras) (1.24.4)\r\n",
      "Downloading vit_keras-0.1.2-py3-none-any.whl (24 kB)\r\n",
      "Downloading validators-0.28.1-py3-none-any.whl (39 kB)\r\n",
      "Installing collected packages: validators, vit_keras\r\n",
      "Successfully installed validators-0.28.1 vit_keras-0.1.2\r\n",
      "Collecting tensorflow_addons\r\n",
      "  Downloading tensorflow_addons-0.23.0-cp310-cp310-manylinux_2_17_x86_64.manylinux2014_x86_64.whl.metadata (1.8 kB)\r\n",
      "Requirement already satisfied: packaging in /opt/conda/lib/python3.10/site-packages (from tensorflow_addons) (21.3)\r\n",
      "Collecting typeguard<3.0.0,>=2.7 (from tensorflow_addons)\r\n",
      "  Downloading typeguard-2.13.3-py3-none-any.whl.metadata (3.6 kB)\r\n",
      "Requirement already satisfied: pyparsing!=3.0.5,>=2.0.2 in /opt/conda/lib/python3.10/site-packages (from packaging->tensorflow_addons) (3.1.1)\r\n",
      "Downloading tensorflow_addons-0.23.0-cp310-cp310-manylinux_2_17_x86_64.manylinux2014_x86_64.whl (611 kB)\r\n",
      "\u001b[2K   \u001b[90m━━━━━━━━━━━━━━━━━━━━━━━━━━━━━━━━━━━━━━━━\u001b[0m \u001b[32m611.8/611.8 kB\u001b[0m \u001b[31m13.1 MB/s\u001b[0m eta \u001b[36m0:00:00\u001b[0m\r\n",
      "\u001b[?25hDownloading typeguard-2.13.3-py3-none-any.whl (17 kB)\r\n",
      "Installing collected packages: typeguard, tensorflow_addons\r\n",
      "  Attempting uninstall: typeguard\r\n",
      "    Found existing installation: typeguard 4.1.5\r\n",
      "    Uninstalling typeguard-4.1.5:\r\n",
      "      Successfully uninstalled typeguard-4.1.5\r\n",
      "\u001b[31mERROR: pip's dependency resolver does not currently take into account all the packages that are installed. This behaviour is the source of the following dependency conflicts.\r\n",
      "ydata-profiling 4.6.4 requires typeguard<5,>=4.1.2, but you have typeguard 2.13.3 which is incompatible.\u001b[0m\u001b[31m\r\n",
      "\u001b[0mSuccessfully installed tensorflow_addons-0.23.0 typeguard-2.13.3\r\n"
     ]
    }
   ],
   "source": [
    "!pip install vit_keras\n",
    "!pip install tensorflow_addons"
   ]
  },
  {
   "cell_type": "code",
   "execution_count": 8,
   "id": "092ddbb7",
   "metadata": {
    "execution": {
     "iopub.execute_input": "2024-05-06T19:06:05.313529Z",
     "iopub.status.busy": "2024-05-06T19:06:05.313209Z",
     "iopub.status.idle": "2024-05-06T19:06:26.589917Z",
     "shell.execute_reply": "2024-05-06T19:06:26.589130Z"
    },
    "papermill": {
     "duration": 21.287097,
     "end_time": "2024-05-06T19:06:26.592284",
     "exception": false,
     "start_time": "2024-05-06T19:06:05.305187",
     "status": "completed"
    },
    "tags": []
   },
   "outputs": [
    {
     "name": "stderr",
     "output_type": "stream",
     "text": [
      "/opt/conda/lib/python3.10/site-packages/tensorflow_addons/utils/tfa_eol_msg.py:23: UserWarning: \n",
      "\n",
      "TensorFlow Addons (TFA) has ended development and introduction of new features.\n",
      "TFA has entered a minimal maintenance and release mode until a planned end of life in May 2024.\n",
      "Please modify downstream libraries to take dependencies from other repositories in our TensorFlow community (e.g. Keras, Keras-CV, and Keras-NLP). \n",
      "\n",
      "For more information see: https://github.com/tensorflow/addons/issues/2807 \n",
      "\n",
      "  warnings.warn(\n"
     ]
    },
    {
     "name": "stdout",
     "output_type": "stream",
     "text": [
      "Downloading data from https://github.com/faustomorales/vit-keras/releases/download/dl/ViT-B_16_imagenet21k+imagenet2012.npz\n",
      "347502902/347502902 [==============================] - 1s 0us/step\n"
     ]
    },
    {
     "name": "stderr",
     "output_type": "stream",
     "text": [
      "/opt/conda/lib/python3.10/site-packages/vit_keras/utils.py:81: UserWarning: Resizing position embeddings from 24, 24 to 2, 2\n",
      "  warnings.warn(\n"
     ]
    }
   ],
   "source": [
    "from vit_keras import vit\n",
    "\n",
    "vit_model = vit.vit_b16(\n",
    "        image_size = 32,\n",
    "        activation = 'softmax',\n",
    "        pretrained = True,\n",
    "        include_top = False,\n",
    "        pretrained_top = False)"
   ]
  },
  {
   "cell_type": "code",
   "execution_count": 9,
   "id": "4c6f16aa",
   "metadata": {
    "execution": {
     "iopub.execute_input": "2024-05-06T19:06:26.612342Z",
     "iopub.status.busy": "2024-05-06T19:06:26.612031Z",
     "iopub.status.idle": "2024-05-06T19:06:32.088414Z",
     "shell.execute_reply": "2024-05-06T19:06:32.087397Z"
    },
    "papermill": {
     "duration": 5.488678,
     "end_time": "2024-05-06T19:06:32.090379",
     "exception": false,
     "start_time": "2024-05-06T19:06:26.601701",
     "status": "completed"
    },
    "tags": []
   },
   "outputs": [
    {
     "name": "stdout",
     "output_type": "stream",
     "text": [
      "Downloading data from https://storage.googleapis.com/tensorflow/keras-applications/efficientnet_v2/efficientnetv2-b0_notop.h5\n",
      "24274472/24274472 [==============================] - 0s 0us/step\n",
      "Model: \"model\"\n",
      "__________________________________________________________________________________________________\n",
      " Layer (type)                Output Shape                 Param #   Connected to                  \n",
      "==================================================================================================\n",
      " input_3 (InputLayer)        [(None, 32, 32, 3)]          0         []                            \n",
      "                                                                                                  \n",
      " efficientnetv2-b0 (Functio  (None, 1280)                 5919312   ['input_3[0][0]']             \n",
      " nal)                                                                                             \n",
      "                                                                                                  \n",
      " batch_normalization (Batch  (None, 1280)                 5120      ['efficientnetv2-b0[0][0]']   \n",
      " Normalization)                                                                                   \n",
      "                                                                                                  \n",
      " dense (Dense)               (None, 256)                  327936    ['batch_normalization[0][0]'] \n",
      "                                                                                                  \n",
      " dropout (Dropout)           (None, 256)                  0         ['dense[0][0]']               \n",
      "                                                                                                  \n",
      " vit-b16 (Functional)        (None, 768)                  8565120   ['input_3[0][0]']             \n",
      "                                                          0                                       \n",
      "                                                                                                  \n",
      " dense_1 (Dense)             (None, 64)                   16448     ['dropout[0][0]']             \n",
      "                                                                                                  \n",
      " dense_2 (Dense)             (None, 64)                   49216     ['vit-b16[0][0]']             \n",
      "                                                                                                  \n",
      " concatenate (Concatenate)   (None, 128)                  0         ['dense_1[0][0]',             \n",
      "                                                                     'dense_2[0][0]']             \n",
      "                                                                                                  \n",
      " dense_3 (Dense)             (None, 1)                    129       ['concatenate[0][0]']         \n",
      "                                                                                                  \n",
      "==================================================================================================\n",
      "Total params: 91969361 (350.84 MB)\n",
      "Trainable params: 91906193 (350.59 MB)\n",
      "Non-trainable params: 63168 (246.75 KB)\n",
      "__________________________________________________________________________________________________\n"
     ]
    }
   ],
   "source": [
    "# Building the Transfer Learning model using ResNet50\n",
    "EfficientNet_base_model = tf.keras.applications.EfficientNetV2B0(\n",
    "    include_top = False, \n",
    "    weights = 'imagenet', \n",
    "    input_shape = (img_height, img_width, 3),\n",
    "    pooling = 'max'\n",
    ")\n",
    "EfficientNet_base_model.trainable = True\n",
    "\n",
    "# Create a new model on top of the ResNet50 base\n",
    "inputs = tf.keras.Input(shape = (img_height, img_width, 3))\n",
    "x = EfficientNet_base_model(inputs, training = False)\n",
    "x = BatchNormalization(axis = -1, momentum = 0.99, epsilon = 0.001)(x)\n",
    "x = Dense(256, \n",
    "          kernel_regularizer = regularizers.l2(0.01), \n",
    "          activity_regularizer = regularizers.l1(0.01), \n",
    "          bias_regularizer = regularizers.l1(0.01),\n",
    "          activation = 'relu')(x)\n",
    "x = Dropout(rate = .4, seed = 512)(x)       \n",
    "outputs_1 = Dense(64, activation = 'relu')(x)\n",
    "outputs_2 = vit_model(inputs)\n",
    "projection_layer = tf.keras.layers.Dense(64)\n",
    "projection_o2 = projection_layer(outputs_2)\n",
    "# w1 = 0.6\n",
    "# w2 = 0.4\n",
    "# outputs = w1 * outputs_1 + w2 * projection_o2\n",
    "outputs = tf.keras.layers.Concatenate()([outputs_1, projection_o2])\n",
    "\n",
    "outputs = Dense(1, activation = 'sigmoid')(outputs)\n",
    "\n",
    "custom_model = tf.keras.Model(inputs, outputs)\n",
    "\n",
    "# Compile the model\n",
    "custom_model.compile(\n",
    "    optimizer = tf.keras.optimizers.Adamax(learning_rate = .001),\n",
    "    loss = tf.keras.losses.BinaryCrossentropy(),\n",
    "    metrics = ['accuracy', tf.keras.metrics.Precision(), tf.keras.metrics.Recall()]\n",
    ")\n",
    "\n",
    "# Summary of the model\n",
    "custom_model.summary()\n"
   ]
  },
  {
   "cell_type": "code",
   "execution_count": 10,
   "id": "015b8eb8",
   "metadata": {
    "execution": {
     "iopub.execute_input": "2024-05-06T19:06:32.116961Z",
     "iopub.status.busy": "2024-05-06T19:06:32.116688Z",
     "iopub.status.idle": "2024-05-06T19:45:13.891660Z",
     "shell.execute_reply": "2024-05-06T19:45:13.890649Z"
    },
    "papermill": {
     "duration": 2321.790245,
     "end_time": "2024-05-06T19:45:13.893626",
     "exception": false,
     "start_time": "2024-05-06T19:06:32.103381",
     "status": "completed"
    },
    "tags": []
   },
   "outputs": [
    {
     "name": "stdout",
     "output_type": "stream",
     "text": [
      "Starting training with Transfer Learning using VGG16...\n",
      "Epoch 1/100\n"
     ]
    },
    {
     "name": "stderr",
     "output_type": "stream",
     "text": [
      "WARNING: All log messages before absl::InitializeLog() is called are written to STDERR\n",
      "I0000 00:00:1715022449.443421      82 device_compiler.h:186] Compiled cluster using XLA!  This line is logged at most once for the lifetime of the process.\n"
     ]
    },
    {
     "name": "stdout",
     "output_type": "stream",
     "text": [
      "200/200 [==============================] - 208s 611ms/step - loss: 1.6388 - accuracy: 0.9272 - precision: 0.9281 - recall: 0.9261 - val_loss: 0.5800 - val_accuracy: 0.8794 - val_precision: 0.8157 - val_recall: 0.9802\n",
      "Epoch 2/100\n",
      "200/200 [==============================] - 118s 583ms/step - loss: 0.2772 - accuracy: 0.9660 - precision: 0.9682 - recall: 0.9637 - val_loss: 0.4957 - val_accuracy: 0.8110 - val_precision: 0.7292 - val_recall: 0.9893\n",
      "Epoch 3/100\n",
      "200/200 [==============================] - 117s 581ms/step - loss: 0.1522 - accuracy: 0.9753 - precision: 0.9772 - recall: 0.9733 - val_loss: 0.6079 - val_accuracy: 0.7757 - val_precision: 0.6921 - val_recall: 0.9932\n",
      "Epoch 4/100\n",
      "200/200 [==============================] - 118s 583ms/step - loss: 0.1112 - accuracy: 0.9829 - precision: 0.9846 - recall: 0.9812 - val_loss: 0.4649 - val_accuracy: 0.8425 - val_precision: 0.7669 - val_recall: 0.9842\n",
      "Epoch 5/100\n",
      "200/200 [==============================] - 117s 583ms/step - loss: 0.0905 - accuracy: 0.9869 - precision: 0.9871 - recall: 0.9867 - val_loss: 0.3111 - val_accuracy: 0.8988 - val_precision: 0.8517 - val_recall: 0.9658\n",
      "Epoch 6/100\n",
      "200/200 [==============================] - 117s 582ms/step - loss: 0.0728 - accuracy: 0.9904 - precision: 0.9910 - recall: 0.9899 - val_loss: 0.3180 - val_accuracy: 0.9083 - val_precision: 0.8900 - val_recall: 0.9317\n",
      "Epoch 7/100\n",
      "200/200 [==============================] - 117s 582ms/step - loss: 0.0619 - accuracy: 0.9921 - precision: 0.9927 - recall: 0.9915 - val_loss: 0.4452 - val_accuracy: 0.8751 - val_precision: 0.8155 - val_recall: 0.9696\n",
      "Epoch 8/100\n",
      "200/200 [==============================] - 117s 582ms/step - loss: 0.0500 - accuracy: 0.9951 - precision: 0.9955 - recall: 0.9947 - val_loss: 0.4952 - val_accuracy: 0.8630 - val_precision: 0.7950 - val_recall: 0.9784\n",
      "Epoch 9/100\n",
      "200/200 [==============================] - 117s 583ms/step - loss: 0.0439 - accuracy: 0.9954 - precision: 0.9959 - recall: 0.9949 - val_loss: 0.2823 - val_accuracy: 0.9162 - val_precision: 0.9030 - val_recall: 0.9326\n",
      "Epoch 10/100\n",
      "200/200 [==============================] - 117s 582ms/step - loss: 0.0370 - accuracy: 0.9965 - precision: 0.9969 - recall: 0.9961 - val_loss: 0.8940 - val_accuracy: 0.8148 - val_precision: 0.7337 - val_recall: 0.9884\n",
      "Epoch 11/100\n",
      "200/200 [==============================] - 117s 581ms/step - loss: 0.0324 - accuracy: 0.9974 - precision: 0.9976 - recall: 0.9971 - val_loss: 0.5497 - val_accuracy: 0.8776 - val_precision: 0.8139 - val_recall: 0.9791\n",
      "Epoch 12/100\n",
      "200/200 [==============================] - 117s 582ms/step - loss: 0.0299 - accuracy: 0.9974 - precision: 0.9977 - recall: 0.9971 - val_loss: 0.6332 - val_accuracy: 0.8645 - val_precision: 0.7952 - val_recall: 0.9821\n",
      "Epoch 13/100\n",
      "200/200 [==============================] - 117s 582ms/step - loss: 0.0266 - accuracy: 0.9977 - precision: 0.9981 - recall: 0.9974 - val_loss: 0.7416 - val_accuracy: 0.8684 - val_precision: 0.8102 - val_recall: 0.9621\n",
      "Epoch 14/100\n",
      "200/200 [==============================] - 118s 581ms/step - loss: 0.0240 - accuracy: 0.9981 - precision: 0.9983 - recall: 0.9980 - val_loss: 0.5261 - val_accuracy: 0.8942 - val_precision: 0.8356 - val_recall: 0.9815\n",
      "Epoch 15/100\n",
      "200/200 [==============================] - 117s 582ms/step - loss: 0.0226 - accuracy: 0.9980 - precision: 0.9982 - recall: 0.9978 - val_loss: 0.5074 - val_accuracy: 0.8962 - val_precision: 0.8448 - val_recall: 0.9708\n",
      "Epoch 16/100\n",
      "200/200 [==============================] - 118s 581ms/step - loss: 0.0199 - accuracy: 0.9984 - precision: 0.9986 - recall: 0.9983 - val_loss: 0.8281 - val_accuracy: 0.8572 - val_precision: 0.7851 - val_recall: 0.9836\n",
      "Epoch 17/100\n",
      "200/200 [==============================] - 118s 582ms/step - loss: 0.0179 - accuracy: 0.9987 - precision: 0.9988 - recall: 0.9986 - val_loss: 0.7349 - val_accuracy: 0.8694 - val_precision: 0.8015 - val_recall: 0.9819\n",
      "Epoch 18/100\n",
      "200/200 [==============================] - 117s 582ms/step - loss: 0.0165 - accuracy: 0.9988 - precision: 0.9989 - recall: 0.9987 - val_loss: 0.6567 - val_accuracy: 0.8911 - val_precision: 0.8337 - val_recall: 0.9772\n",
      "Epoch 19/100\n",
      "200/200 [==============================] - 118s 584ms/step - loss: 0.0163 - accuracy: 0.9986 - precision: 0.9988 - recall: 0.9985 - val_loss: 0.5849 - val_accuracy: 0.8935 - val_precision: 0.8375 - val_recall: 0.9766\n",
      "Transfer Learning training finished.\n"
     ]
    }
   ],
   "source": [
    "print(\"Starting training with Transfer Learning using VGG16...\")\n",
    "custom_model_history = custom_model.fit(\n",
    "    train_ds,\n",
    "    validation_data = val_ds,\n",
    "    epochs = 100,\n",
    "    verbose = 1,\n",
    "    callbacks = [early_stopping]\n",
    ")\n",
    "print(\"Transfer Learning training finished.\")"
   ]
  },
  {
   "cell_type": "code",
   "execution_count": 11,
   "id": "75d1ee6a",
   "metadata": {
    "execution": {
     "iopub.execute_input": "2024-05-06T19:45:14.538294Z",
     "iopub.status.busy": "2024-05-06T19:45:14.537658Z",
     "iopub.status.idle": "2024-05-06T19:45:21.280894Z",
     "shell.execute_reply": "2024-05-06T19:45:21.280003Z"
    },
    "papermill": {
     "duration": 7.067936,
     "end_time": "2024-05-06T19:45:21.283003",
     "exception": false,
     "start_time": "2024-05-06T19:45:14.215067",
     "status": "completed"
    },
    "tags": []
   },
   "outputs": [
    {
     "name": "stdout",
     "output_type": "stream",
     "text": [
      "40/40 [==============================] - 7s 164ms/step - loss: 0.2823 - accuracy: 0.9162 - precision: 0.9030 - recall: 0.9326\n",
      "Val Loss: 0.2823\n",
      "Val Accuracy: 0.9162\n",
      "Val Precision: 0.9030\n",
      "Val Recall: 0.9326\n"
     ]
    }
   ],
   "source": [
    "# Evaluate the model on the test dataset\n",
    "val_loss, val_accuracy, val_precision, val_recall = custom_model.evaluate(val_ds)\n",
    "\n",
    "# Print the metrics\n",
    "print(f\"Val Loss: {val_loss:.4f}\")\n",
    "print(f\"Val Accuracy: {val_accuracy:.4f}\")\n",
    "print(f\"Val Precision: {val_precision:.4f}\")\n",
    "print(f\"Val Recall: {val_recall:.4f}\")"
   ]
  },
  {
   "cell_type": "code",
   "execution_count": 12,
   "id": "85937089",
   "metadata": {
    "execution": {
     "iopub.execute_input": "2024-05-06T19:45:21.930426Z",
     "iopub.status.busy": "2024-05-06T19:45:21.930046Z",
     "iopub.status.idle": "2024-05-06T19:45:22.346684Z",
     "shell.execute_reply": "2024-05-06T19:45:22.345719Z"
    },
    "papermill": {
     "duration": 0.741755,
     "end_time": "2024-05-06T19:45:22.348884",
     "exception": false,
     "start_time": "2024-05-06T19:45:21.607129",
     "status": "completed"
    },
    "tags": []
   },
   "outputs": [
    {
     "data": {
      "image/png": "[encoded data removed]",
      "text/plain": [
       "<Figure size 640x480 with 1 Axes>"
      ]
     },
     "metadata": {},
     "output_type": "display_data"
    },
    {
     "data": {
      "image/png": "[encoded data removed]",
      "text/plain": [
       "<Figure size 640x480 with 1 Axes>"
      ]
     },
     "metadata": {},
     "output_type": "display_data"
    }
   ],
   "source": [
    "# Plot error rates and metric rates\n",
    "plot_metrics(custom_model_history, 'loss')\n",
    "plot_metrics(custom_model_history, 'accuracy')\n",
    "# plot_metrics(custom_model_history, 'precision_1')\n",
    "# plot_metrics(custom_model_history, 'recall_1')"
   ]
  },
  {
   "cell_type": "code",
   "execution_count": 13,
   "id": "9df7f10e",
   "metadata": {
    "execution": {
     "iopub.execute_input": "2024-05-06T19:45:23.044650Z",
     "iopub.status.busy": "2024-05-06T19:45:23.044291Z",
     "iopub.status.idle": "2024-05-06T19:45:34.157648Z",
     "shell.execute_reply": "2024-05-06T19:45:34.156766Z"
    },
    "papermill": {
     "duration": 11.485735,
     "end_time": "2024-05-06T19:45:34.159821",
     "exception": false,
     "start_time": "2024-05-06T19:45:22.674086",
     "status": "completed"
    },
    "tags": []
   },
   "outputs": [
    {
     "name": "stdout",
     "output_type": "stream",
     "text": [
      "40/40 [==============================] - 11s 160ms/step\n"
     ]
    }
   ],
   "source": [
    "outputs = custom_model.predict(val_ds)"
   ]
  },
  {
   "cell_type": "code",
   "execution_count": null,
   "id": "622b403a",
   "metadata": {
    "papermill": {
     "duration": 0.326782,
     "end_time": "2024-05-06T19:45:34.813420",
     "exception": false,
     "start_time": "2024-05-06T19:45:34.486638",
     "status": "completed"
    },
    "tags": []
   },
   "outputs": [],
   "source": []
  },
  {
   "cell_type": "code",
   "execution_count": 14,
   "id": "ae252e5b",
   "metadata": {
    "execution": {
     "iopub.execute_input": "2024-05-06T19:45:35.464335Z",
     "iopub.status.busy": "2024-05-06T19:45:35.463836Z",
     "iopub.status.idle": "2024-05-06T19:45:37.385220Z",
     "shell.execute_reply": "2024-05-06T19:45:37.384038Z"
    },
    "papermill": {
     "duration": 2.251102,
     "end_time": "2024-05-06T19:45:37.387262",
     "exception": false,
     "start_time": "2024-05-06T19:45:35.136160",
     "status": "completed"
    },
    "tags": []
   },
   "outputs": [
    {
     "name": "stdout",
     "output_type": "stream",
     "text": [
      "Accuracy: 0.5060\n",
      "F1 Score: 0.5059\n"
     ]
    },
    {
     "data": {
      "image/png": "[encoded data removed]",
      "text/plain": [
       "<Figure size 800x600 with 2 Axes>"
      ]
     },
     "metadata": {},
     "output_type": "display_data"
    },
    {
     "name": "stdout",
     "output_type": "stream",
     "text": [
      "\n",
      "Classification report:\n",
      "\n",
      "              precision    recall  f1-score   support\n",
      "\n",
      "        FAKE     0.5062    0.4896    0.4978     10000\n",
      "        REAL     0.5058    0.5224    0.5140     10000\n",
      "\n",
      "    accuracy                         0.5060     20000\n",
      "   macro avg     0.5060    0.5060    0.5059     20000\n",
      "weighted avg     0.5060    0.5060    0.5059     20000\n",
      "\n"
     ]
    }
   ],
   "source": [
    "# Extract the true labels from the model outputs\n",
    "# y_true = outputs.label_ids\n",
    "from sklearn.metrics import accuracy_score, f1_score, confusion_matrix, classification_report\n",
    "import itertools\n",
    "\n",
    "\n",
    "y_true = np.concatenate([y for x, y in val_ds], axis=0)\n",
    "\n",
    "# Predict the labels by selecting the class with the highest probability\n",
    "# y_pred = outputs.predictions.argmax(1)\n",
    "y_pred = outputs\n",
    "y_pred = (np.array(y_pred) >= 0.5).astype(int)\n",
    "\n",
    "\n",
    "# Define a function to plot a confusion matrix\n",
    "def plot_confusion_matrix(cm, classes, title='Confusion Matrix', cmap=plt.cm.Blues, figsize=(10, 8)):\n",
    "    \"\"\"\n",
    "    This function plots a confusion matrix.\n",
    "\n",
    "    Parameters:\n",
    "        cm (array-like): Confusion matrix as returned by sklearn.metrics.confusion_matrix.\n",
    "        classes (list): List of class names, e.g., ['Class 0', 'Class 1'].\n",
    "        title (str): Title for the plot.\n",
    "        cmap (matplotlib colormap): Colormap for the plot.\n",
    "    \"\"\"\n",
    "    # Create a figure with a specified size\n",
    "    plt.figure(figsize=figsize)\n",
    "    \n",
    "    # Display the confusion matrix as an image with a colormap\n",
    "    plt.imshow(cm, interpolation='nearest', cmap=cmap)\n",
    "    plt.title(title)\n",
    "    plt.colorbar()\n",
    "\n",
    "    # Define tick marks and labels for the classes on the axes\n",
    "    tick_marks = np.arange(len(classes))\n",
    "    plt.xticks(tick_marks, classes, rotation=90)\n",
    "    plt.yticks(tick_marks, classes)\n",
    "\n",
    "    fmt = '.0f'\n",
    "    # Add text annotations to the plot indicating the values in the cells\n",
    "    thresh = cm.max() / 2.0\n",
    "    for i, j in itertools.product(range(cm.shape[0]), range(cm.shape[1])):\n",
    "        plt.text(j, i, format(cm[i, j], fmt), horizontalalignment=\"center\", color=\"white\" if cm[i, j] > thresh else \"black\")\n",
    "\n",
    "    # Label the axes\n",
    "    plt.ylabel('True label')\n",
    "    plt.xlabel('Predicted label')\n",
    "\n",
    "    # Ensure the plot layout is tight\n",
    "    plt.tight_layout()\n",
    "    # Display the plot\n",
    "    plt.show()\n",
    "\n",
    "# Calculate accuracy and F1 score\n",
    "accuracy = accuracy_score(y_true, y_pred)\n",
    "f1 = f1_score(y_true, y_pred, average='macro')\n",
    "\n",
    "# Display accuracy and F1 score\n",
    "print(f\"Accuracy: {accuracy:.4f}\")\n",
    "print(f\"F1 Score: {f1:.4f}\")\n",
    "\n",
    "# Get the confusion matrix if there are a small number of labels\n",
    "labels_list = [\"FAKE\", \"REAL\"]\n",
    "if len(labels_list) <= 150:\n",
    "    # Compute the confusion matrix\n",
    "    cm = confusion_matrix(y_true, y_pred)\n",
    "\n",
    "    # Plot the confusion matrix using the defined function\n",
    "    plot_confusion_matrix(cm, labels_list, figsize=(8, 6))\n",
    "    \n",
    "# Finally, display classification report\n",
    "print()\n",
    "print(\"Classification report:\")\n",
    "print()\n",
    "print(classification_report(y_true, y_pred, target_names=labels_list, digits=4))"
   ]
  }
 ],
 "metadata": {
  "kaggle": {
   "accelerator": "gpu",
   "dataSources": [
    {
     "datasetId": 3041726,
     "sourceId": 5256696,
     "sourceType": "datasetVersion"
    }
   ],
   "dockerImageVersionId": 30648,
   "isGpuEnabled": true,
   "isInternetEnabled": true,
   "language": "python",
   "sourceType": "notebook"
  },
  "kernelspec": {
   "display_name": "Python 3",
   "language": "python",
   "name": "python3"
  },
  "language_info": {
   "codemirror_mode": {
    "name": "ipython",
    "version": 3
   },
   "file_extension": ".py",
   "mimetype": "text/x-python",
   "name": "python",
   "nbconvert_exporter": "python",
   "pygments_lexer": "ipython3",
   "version": "3.9.19"
  },
  "papermill": {
   "default_parameters": {},
   "duration": 2661.607398,
   "end_time": "2024-05-06T19:45:41.353261",
   "environment_variables": {},
   "exception": null,
   "input_path": "__notebook__.ipynb",
   "output_path": "__notebook__.ipynb",
   "parameters": {},
   "start_time": "2024-05-06T19:01:19.745863",
   "version": "2.5.0"
  }
 },
 "nbformat": 4,
 "nbformat_minor": 5
}
