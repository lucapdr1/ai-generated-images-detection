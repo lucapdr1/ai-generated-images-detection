{
 "cells": [
  {
   "cell_type": "markdown",
   "id": "2008bb80",
   "metadata": {
    "papermill": {
     "duration": 0.013108,
     "end_time": "2023-05-16T01:52:24.136458",
     "exception": false,
     "start_time": "2023-05-16T01:52:24.123350",
     "status": "completed"
    },
    "tags": []
   },
   "source": [
    "## Basic Libraries"
   ]
  },
  {
   "cell_type": "code",
   "execution_count": 7,
   "id": "bd3acf67",
   "metadata": {
    "execution": {
     "iopub.execute_input": "2023-05-16T01:52:24.165562Z",
     "iopub.status.busy": "2023-05-16T01:52:24.164304Z",
     "iopub.status.idle": "2023-05-16T01:52:24.179240Z",
     "shell.execute_reply": "2023-05-16T01:52:24.177990Z"
    },
    "papermill": {
     "duration": 0.032141,
     "end_time": "2023-05-16T01:52:24.182055",
     "exception": false,
     "start_time": "2023-05-16T01:52:24.149914",
     "status": "completed"
    },
    "tags": []
   },
   "outputs": [],
   "source": [
    "import numpy as np"
   ]
  },
  {
   "cell_type": "markdown",
   "id": "6f396e8a",
   "metadata": {},
   "source": [
    "Import preprocessed Data"
   ]
  },
  {
   "cell_type": "code",
   "execution_count": 9,
   "id": "c15c20fc",
   "metadata": {},
   "outputs": [],
   "source": [
    "# Load training data\n",
    "X_train = np.load('./processed-data/X_train.npy')\n",
    "y_train = np.load('./processed-data/y_train.npy')"
   ]
  },
  {
   "cell_type": "markdown",
   "id": "31d14a46",
   "metadata": {
    "papermill": {
     "duration": 0.017088,
     "end_time": "2023-05-16T02:08:01.283075",
     "exception": false,
     "start_time": "2023-05-16T02:08:01.265987",
     "status": "completed"
    },
    "tags": []
   },
   "source": [
    "## Importing **\"keras\"** for CNN"
   ]
  },
  {
   "cell_type": "code",
   "execution_count": 10,
   "id": "5306ca43",
   "metadata": {
    "execution": {
     "iopub.execute_input": "2023-05-16T02:08:01.319286Z",
     "iopub.status.busy": "2023-05-16T02:08:01.318899Z",
     "iopub.status.idle": "2023-05-16T02:18:20.192423Z",
     "shell.execute_reply": "2023-05-16T02:18:20.191546Z"
    },
    "papermill": {
     "duration": 618.894231,
     "end_time": "2023-05-16T02:18:20.194943",
     "exception": false,
     "start_time": "2023-05-16T02:08:01.300712",
     "status": "completed"
    },
    "tags": []
   },
   "outputs": [
    {
     "name": "stderr",
     "output_type": "stream",
     "text": [
      "c:\\Users\\P2001\\anaconda3\\envs\\dlp\\Lib\\site-packages\\keras\\src\\layers\\convolutional\\base_conv.py:107: UserWarning: Do not pass an `input_shape`/`input_dim` argument to a layer. When using Sequential models, prefer using an `Input(shape)` object as the first layer in the model instead.\n",
      "  super().__init__(activity_regularizer=activity_regularizer, **kwargs)\n"
     ]
    },
    {
     "name": "stdout",
     "output_type": "stream",
     "text": [
      "Epoch 1/5\n",
      "\u001b[1m3125/3125\u001b[0m \u001b[32m━━━━━━━━━━━━━━━━━━━━\u001b[0m\u001b[37m\u001b[0m \u001b[1m74s\u001b[0m 22ms/step - accuracy: 0.7787 - loss: 0.4562\n",
      "Epoch 2/5\n",
      "\u001b[1m3125/3125\u001b[0m \u001b[32m━━━━━━━━━━━━━━━━━━━━\u001b[0m\u001b[37m\u001b[0m \u001b[1m67s\u001b[0m 21ms/step - accuracy: 0.8889 - loss: 0.2674\n",
      "Epoch 3/5\n",
      "\u001b[1m3125/3125\u001b[0m \u001b[32m━━━━━━━━━━━━━━━━━━━━\u001b[0m\u001b[37m\u001b[0m \u001b[1m68s\u001b[0m 22ms/step - accuracy: 0.9069 - loss: 0.2269\n",
      "Epoch 4/5\n",
      "\u001b[1m3125/3125\u001b[0m \u001b[32m━━━━━━━━━━━━━━━━━━━━\u001b[0m\u001b[37m\u001b[0m \u001b[1m70s\u001b[0m 22ms/step - accuracy: 0.9148 - loss: 0.2121\n",
      "Epoch 5/5\n",
      "\u001b[1m3125/3125\u001b[0m \u001b[32m━━━━━━━━━━━━━━━━━━━━\u001b[0m\u001b[37m\u001b[0m \u001b[1m69s\u001b[0m 22ms/step - accuracy: 0.9225 - loss: 0.1925\n"
     ]
    },
    {
     "data": {
      "text/plain": [
       "<keras.src.callbacks.history.History at 0x2b904d58da0>"
      ]
     },
     "execution_count": 10,
     "metadata": {},
     "output_type": "execute_result"
    }
   ],
   "source": [
    "from tensorflow.keras import models , layers\n",
    "\n",
    "model = models.Sequential([\n",
    "    layers.Conv2D(filters = 80 , kernel_size = (3,3),activation = 'relu',input_shape= (32,32,3)),\n",
    "    layers.MaxPool2D((2,2)),\n",
    "    layers.Conv2D(filters = 40 , kernel_size = (3,3),activation = 'relu'),\n",
    "    layers.MaxPool2D((2,2)),\n",
    "    layers.Conv2D(filters = 20 , kernel_size = (3,3),activation = 'relu'),\n",
    "    layers.MaxPool2D((2,2)),\n",
    "    \n",
    "    layers.Flatten(),\n",
    "    layers.Dense(10,activation = 'relu'),\n",
    "    layers.Dense(2,activation = 'sigmoid'),\n",
    "                         ])\n",
    "\n",
    "model.compile(\n",
    "    optimizer = 'adam',\n",
    "    loss= 'sparse_categorical_crossentropy',\n",
    "    metrics = ['accuracy']\n",
    "             )\n",
    "\n",
    "model.fit(X_train,y_train, epochs = 5)\n"
   ]
  },
  {
   "cell_type": "code",
   "execution_count": 14,
   "id": "5d748379",
   "metadata": {},
   "outputs": [],
   "source": [
    "#Save the trained model\n",
    "model.save(\"./models/example-cnn.keras\")"
   ]
  }
 ],
 "metadata": {
  "kernelspec": {
   "display_name": "Python 3",
   "language": "python",
   "name": "python3"
  },
  "language_info": {
   "codemirror_mode": {
    "name": "ipython",
    "version": 3
   },
   "file_extension": ".py",
   "mimetype": "text/x-python",
   "name": "python",
   "nbconvert_exporter": "python",
   "pygments_lexer": "ipython3",
   "version": "3.12.3"
  },
  "papermill": {
   "default_parameters": {},
   "duration": 1602.885985,
   "end_time": "2023-05-16T02:18:54.287650",
   "environment_variables": {},
   "exception": null,
   "input_path": "__notebook__.ipynb",
   "output_path": "__notebook__.ipynb",
   "parameters": {},
   "start_time": "2023-05-16T01:52:11.401665",
   "version": "2.4.0"
  }
 },
 "nbformat": 4,
 "nbformat_minor": 5
}
